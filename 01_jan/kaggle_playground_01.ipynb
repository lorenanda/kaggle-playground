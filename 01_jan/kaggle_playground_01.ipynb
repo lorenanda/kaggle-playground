{
 "metadata": {
  "language_info": {
   "codemirror_mode": {
    "name": "ipython",
    "version": 3
   },
   "file_extension": ".py",
   "mimetype": "text/x-python",
   "name": "python",
   "nbconvert_exporter": "python",
   "pygments_lexer": "ipython3",
   "version": "3.8.5-final"
  },
  "orig_nbformat": 2,
  "kernelspec": {
   "name": "python3",
   "display_name": "Python 3",
   "language": "python"
  }
 },
 "nbformat": 4,
 "nbformat_minor": 2,
 "cells": [
  {
   "source": [
    "# Kaggle Playground - January Challenge"
   ],
   "cell_type": "markdown",
   "metadata": {}
  },
  {
   "cell_type": "code",
   "execution_count": 1,
   "metadata": {},
   "outputs": [],
   "source": [
    "import pandas as pd \n",
    "import numpy as np \n",
    "import seaborn as sns\n",
    "from sklearn.model_selection import train_test_split\n",
    "from sklearn.linear_model import LinearRegression\n",
    "from sklearn.ensemble import RandomForestRegressor, GradientBoostingRegressor\n",
    "from sklearn.model_selection import GridSearchCV\n",
    "from sklearn.feature_selection import RFE\n",
    "from sklearn.model_selection import cross_val_score, cross_validate\n",
    "from sklearn.metrics import mean_squared_log_error, mean_squared_error, mean_absolute_error, r2_score\n",
    "from statsmodels.api import OLS, add_constant\n",
    "from xgboost import XGBRegressor"
   ]
  },
  {
   "source": [
    "## EXPLORATORY ANALYSIS"
   ],
   "cell_type": "markdown",
   "metadata": {}
  },
  {
   "cell_type": "code",
   "execution_count": 2,
   "metadata": {},
   "outputs": [
    {
     "output_type": "execute_result",
     "data": {
      "text/plain": [
       "   id     cont1     cont2     cont3     cont4     cont5     cont6     cont7  \\\n",
       "0   1  0.670390  0.811300  0.643968  0.291791  0.284117  0.855953  0.890700   \n",
       "1   3  0.388053  0.621104  0.686102  0.501149  0.643790  0.449805  0.510824   \n",
       "2   4  0.834950  0.227436  0.301584  0.293408  0.606839  0.829175  0.506143   \n",
       "3   5  0.820708  0.160155  0.546887  0.726104  0.282444  0.785108  0.752758   \n",
       "4   8  0.935278  0.421235  0.303801  0.880214  0.665610  0.830131  0.487113   \n",
       "\n",
       "      cont8     cont9    cont10    cont11    cont12    cont13    cont14  \\\n",
       "0  0.285542  0.558245  0.779418  0.921832  0.866772  0.878733  0.305411   \n",
       "1  0.580748  0.418335  0.432632  0.439872  0.434971  0.369957  0.369484   \n",
       "2  0.558771  0.587603  0.823312  0.567007  0.677708  0.882938  0.303047   \n",
       "3  0.823267  0.574466  0.580843  0.769594  0.818143  0.914281  0.279528   \n",
       "4  0.604157  0.874658  0.863427  0.983575  0.900464  0.935918  0.435772   \n",
       "\n",
       "     target  \n",
       "0  7.243043  \n",
       "1  8.203331  \n",
       "2  7.776091  \n",
       "3  6.957716  \n",
       "4  7.951046  "
      ],
      "text/html": "<div>\n<style scoped>\n    .dataframe tbody tr th:only-of-type {\n        vertical-align: middle;\n    }\n\n    .dataframe tbody tr th {\n        vertical-align: top;\n    }\n\n    .dataframe thead th {\n        text-align: right;\n    }\n</style>\n<table border=\"1\" class=\"dataframe\">\n  <thead>\n    <tr style=\"text-align: right;\">\n      <th></th>\n      <th>id</th>\n      <th>cont1</th>\n      <th>cont2</th>\n      <th>cont3</th>\n      <th>cont4</th>\n      <th>cont5</th>\n      <th>cont6</th>\n      <th>cont7</th>\n      <th>cont8</th>\n      <th>cont9</th>\n      <th>cont10</th>\n      <th>cont11</th>\n      <th>cont12</th>\n      <th>cont13</th>\n      <th>cont14</th>\n      <th>target</th>\n    </tr>\n  </thead>\n  <tbody>\n    <tr>\n      <th>0</th>\n      <td>1</td>\n      <td>0.670390</td>\n      <td>0.811300</td>\n      <td>0.643968</td>\n      <td>0.291791</td>\n      <td>0.284117</td>\n      <td>0.855953</td>\n      <td>0.890700</td>\n      <td>0.285542</td>\n      <td>0.558245</td>\n      <td>0.779418</td>\n      <td>0.921832</td>\n      <td>0.866772</td>\n      <td>0.878733</td>\n      <td>0.305411</td>\n      <td>7.243043</td>\n    </tr>\n    <tr>\n      <th>1</th>\n      <td>3</td>\n      <td>0.388053</td>\n      <td>0.621104</td>\n      <td>0.686102</td>\n      <td>0.501149</td>\n      <td>0.643790</td>\n      <td>0.449805</td>\n      <td>0.510824</td>\n      <td>0.580748</td>\n      <td>0.418335</td>\n      <td>0.432632</td>\n      <td>0.439872</td>\n      <td>0.434971</td>\n      <td>0.369957</td>\n      <td>0.369484</td>\n      <td>8.203331</td>\n    </tr>\n    <tr>\n      <th>2</th>\n      <td>4</td>\n      <td>0.834950</td>\n      <td>0.227436</td>\n      <td>0.301584</td>\n      <td>0.293408</td>\n      <td>0.606839</td>\n      <td>0.829175</td>\n      <td>0.506143</td>\n      <td>0.558771</td>\n      <td>0.587603</td>\n      <td>0.823312</td>\n      <td>0.567007</td>\n      <td>0.677708</td>\n      <td>0.882938</td>\n      <td>0.303047</td>\n      <td>7.776091</td>\n    </tr>\n    <tr>\n      <th>3</th>\n      <td>5</td>\n      <td>0.820708</td>\n      <td>0.160155</td>\n      <td>0.546887</td>\n      <td>0.726104</td>\n      <td>0.282444</td>\n      <td>0.785108</td>\n      <td>0.752758</td>\n      <td>0.823267</td>\n      <td>0.574466</td>\n      <td>0.580843</td>\n      <td>0.769594</td>\n      <td>0.818143</td>\n      <td>0.914281</td>\n      <td>0.279528</td>\n      <td>6.957716</td>\n    </tr>\n    <tr>\n      <th>4</th>\n      <td>8</td>\n      <td>0.935278</td>\n      <td>0.421235</td>\n      <td>0.303801</td>\n      <td>0.880214</td>\n      <td>0.665610</td>\n      <td>0.830131</td>\n      <td>0.487113</td>\n      <td>0.604157</td>\n      <td>0.874658</td>\n      <td>0.863427</td>\n      <td>0.983575</td>\n      <td>0.900464</td>\n      <td>0.935918</td>\n      <td>0.435772</td>\n      <td>7.951046</td>\n    </tr>\n  </tbody>\n</table>\n</div>"
     },
     "metadata": {},
     "execution_count": 2
    }
   ],
   "source": [
    "train = pd.read_csv('data/train.csv')\n",
    "train.head()"
   ]
  },
  {
   "cell_type": "code",
   "execution_count": 3,
   "metadata": {},
   "outputs": [
    {
     "output_type": "execute_result",
     "data": {
      "text/plain": [
       "   id     cont1     cont2     cont3     cont4     cont5     cont6     cont7  \\\n",
       "0   0  0.353600  0.738780  0.600939  0.293377  0.285691  0.458006  0.620704   \n",
       "1   2  0.907222  0.189756  0.215531  0.869915  0.301333  0.528958  0.390351   \n",
       "2   6  0.179287  0.355353  0.623972  0.437812  0.282476  0.320826  0.386789   \n",
       "3   7  0.359385  0.181049  0.551368  0.206386  0.280763  0.482076  0.506677   \n",
       "4  10  0.335791  0.682607  0.676481  0.219465  0.282861  0.581721  0.748639   \n",
       "\n",
       "      cont8     cont9    cont10    cont11    cont12    cont13    cont14  \n",
       "0  0.422249  0.369203  0.435727  0.550540  0.699134  0.286864  0.364515  \n",
       "1  0.521112  0.794779  0.798580  0.446475  0.449037  0.916964  0.513002  \n",
       "2  0.776422  0.222268  0.229102  0.211913  0.222651  0.327164  0.827941  \n",
       "3  0.362793  0.379737  0.345686  0.445276  0.518485  0.299028  0.598166  \n",
       "4  0.350158  0.448915  0.506878  0.817721  0.805895  0.790591  0.249275  "
      ],
      "text/html": "<div>\n<style scoped>\n    .dataframe tbody tr th:only-of-type {\n        vertical-align: middle;\n    }\n\n    .dataframe tbody tr th {\n        vertical-align: top;\n    }\n\n    .dataframe thead th {\n        text-align: right;\n    }\n</style>\n<table border=\"1\" class=\"dataframe\">\n  <thead>\n    <tr style=\"text-align: right;\">\n      <th></th>\n      <th>id</th>\n      <th>cont1</th>\n      <th>cont2</th>\n      <th>cont3</th>\n      <th>cont4</th>\n      <th>cont5</th>\n      <th>cont6</th>\n      <th>cont7</th>\n      <th>cont8</th>\n      <th>cont9</th>\n      <th>cont10</th>\n      <th>cont11</th>\n      <th>cont12</th>\n      <th>cont13</th>\n      <th>cont14</th>\n    </tr>\n  </thead>\n  <tbody>\n    <tr>\n      <th>0</th>\n      <td>0</td>\n      <td>0.353600</td>\n      <td>0.738780</td>\n      <td>0.600939</td>\n      <td>0.293377</td>\n      <td>0.285691</td>\n      <td>0.458006</td>\n      <td>0.620704</td>\n      <td>0.422249</td>\n      <td>0.369203</td>\n      <td>0.435727</td>\n      <td>0.550540</td>\n      <td>0.699134</td>\n      <td>0.286864</td>\n      <td>0.364515</td>\n    </tr>\n    <tr>\n      <th>1</th>\n      <td>2</td>\n      <td>0.907222</td>\n      <td>0.189756</td>\n      <td>0.215531</td>\n      <td>0.869915</td>\n      <td>0.301333</td>\n      <td>0.528958</td>\n      <td>0.390351</td>\n      <td>0.521112</td>\n      <td>0.794779</td>\n      <td>0.798580</td>\n      <td>0.446475</td>\n      <td>0.449037</td>\n      <td>0.916964</td>\n      <td>0.513002</td>\n    </tr>\n    <tr>\n      <th>2</th>\n      <td>6</td>\n      <td>0.179287</td>\n      <td>0.355353</td>\n      <td>0.623972</td>\n      <td>0.437812</td>\n      <td>0.282476</td>\n      <td>0.320826</td>\n      <td>0.386789</td>\n      <td>0.776422</td>\n      <td>0.222268</td>\n      <td>0.229102</td>\n      <td>0.211913</td>\n      <td>0.222651</td>\n      <td>0.327164</td>\n      <td>0.827941</td>\n    </tr>\n    <tr>\n      <th>3</th>\n      <td>7</td>\n      <td>0.359385</td>\n      <td>0.181049</td>\n      <td>0.551368</td>\n      <td>0.206386</td>\n      <td>0.280763</td>\n      <td>0.482076</td>\n      <td>0.506677</td>\n      <td>0.362793</td>\n      <td>0.379737</td>\n      <td>0.345686</td>\n      <td>0.445276</td>\n      <td>0.518485</td>\n      <td>0.299028</td>\n      <td>0.598166</td>\n    </tr>\n    <tr>\n      <th>4</th>\n      <td>10</td>\n      <td>0.335791</td>\n      <td>0.682607</td>\n      <td>0.676481</td>\n      <td>0.219465</td>\n      <td>0.282861</td>\n      <td>0.581721</td>\n      <td>0.748639</td>\n      <td>0.350158</td>\n      <td>0.448915</td>\n      <td>0.506878</td>\n      <td>0.817721</td>\n      <td>0.805895</td>\n      <td>0.790591</td>\n      <td>0.249275</td>\n    </tr>\n  </tbody>\n</table>\n</div>"
     },
     "metadata": {},
     "execution_count": 3
    }
   ],
   "source": [
    "test = pd.read_csv('data/test.csv')\n",
    "test.head()"
   ]
  },
  {
   "cell_type": "code",
   "execution_count": 4,
   "metadata": {},
   "outputs": [
    {
     "output_type": "stream",
     "name": "stdout",
     "text": [
      "300000 200000\n"
     ]
    }
   ],
   "source": [
    "print(len(train), len(test))"
   ]
  },
  {
   "cell_type": "code",
   "execution_count": 5,
   "metadata": {},
   "outputs": [
    {
     "output_type": "execute_result",
     "data": {
      "text/plain": [
       "id        0\n",
       "cont1     0\n",
       "cont2     0\n",
       "cont3     0\n",
       "cont4     0\n",
       "cont5     0\n",
       "cont6     0\n",
       "cont7     0\n",
       "cont8     0\n",
       "cont9     0\n",
       "cont10    0\n",
       "cont11    0\n",
       "cont12    0\n",
       "cont13    0\n",
       "cont14    0\n",
       "dtype: int64"
      ]
     },
     "metadata": {},
     "execution_count": 5
    }
   ],
   "source": [
    "train.isnull().sum()\n",
    "test.isnull().sum()"
   ]
  },
  {
   "cell_type": "code",
   "execution_count": 6,
   "metadata": {},
   "outputs": [
    {
     "output_type": "execute_result",
     "data": {
      "text/plain": [
       "                  id          cont1          cont2          cont3  \\\n",
       "count  300000.000000  300000.000000  300000.000000  300000.000000   \n",
       "mean   249825.145857       0.506873       0.497898       0.521557   \n",
       "std    144476.732562       0.203976       0.228159       0.200770   \n",
       "min         1.000000      -0.082263      -0.031397       0.020967   \n",
       "25%    124656.500000       0.343078       0.319170       0.344096   \n",
       "50%    249738.500000       0.484005       0.553209       0.551471   \n",
       "75%    374836.250000       0.643789       0.731263       0.648315   \n",
       "max    499999.000000       1.016227       0.859697       1.006955   \n",
       "\n",
       "               cont4          cont5          cont6          cont7  \\\n",
       "count  300000.000000  300000.000000  300000.000000  300000.000000   \n",
       "mean        0.515683       0.502022       0.526515       0.487890   \n",
       "std         0.233035       0.220701       0.217909       0.181096   \n",
       "min         0.152761       0.276377       0.066166      -0.097666   \n",
       "25%         0.294935       0.284108       0.356163       0.346600   \n",
       "50%         0.482880       0.451733       0.470988       0.466825   \n",
       "75%         0.748705       0.670660       0.694043       0.581292   \n",
       "max         1.010402       1.034261       1.043858       1.066167   \n",
       "\n",
       "               cont8          cont9         cont10         cont11  \\\n",
       "count  300000.000000  300000.000000  300000.000000  300000.000000   \n",
       "mean        0.525163       0.459857       0.520532       0.483926   \n",
       "std         0.216221       0.196685       0.201854       0.220082   \n",
       "min         0.217260      -0.240604      -0.085046       0.083277   \n",
       "25%         0.341486       0.330832       0.375465       0.300474   \n",
       "50%         0.483460       0.416843       0.458877       0.441916   \n",
       "75%         0.685250       0.575041       0.700292       0.679128   \n",
       "max         1.024427       1.004114       1.199951       1.022620   \n",
       "\n",
       "              cont12         cont13         cont14         target  \n",
       "count  300000.000000  300000.000000  300000.000000  300000.000000  \n",
       "mean        0.506877       0.553442       0.503713       7.905661  \n",
       "std         0.218947       0.229730       0.208238       0.733071  \n",
       "min         0.088635       0.029950       0.166367       0.000000  \n",
       "25%         0.310166       0.350472       0.308673       7.329367  \n",
       "50%         0.486599       0.487707       0.431845       7.940571  \n",
       "75%         0.694453       0.768479       0.712653       8.470084  \n",
       "max         1.049025       0.977845       0.868506      10.267569  "
      ],
      "text/html": "<div>\n<style scoped>\n    .dataframe tbody tr th:only-of-type {\n        vertical-align: middle;\n    }\n\n    .dataframe tbody tr th {\n        vertical-align: top;\n    }\n\n    .dataframe thead th {\n        text-align: right;\n    }\n</style>\n<table border=\"1\" class=\"dataframe\">\n  <thead>\n    <tr style=\"text-align: right;\">\n      <th></th>\n      <th>id</th>\n      <th>cont1</th>\n      <th>cont2</th>\n      <th>cont3</th>\n      <th>cont4</th>\n      <th>cont5</th>\n      <th>cont6</th>\n      <th>cont7</th>\n      <th>cont8</th>\n      <th>cont9</th>\n      <th>cont10</th>\n      <th>cont11</th>\n      <th>cont12</th>\n      <th>cont13</th>\n      <th>cont14</th>\n      <th>target</th>\n    </tr>\n  </thead>\n  <tbody>\n    <tr>\n      <th>count</th>\n      <td>300000.000000</td>\n      <td>300000.000000</td>\n      <td>300000.000000</td>\n      <td>300000.000000</td>\n      <td>300000.000000</td>\n      <td>300000.000000</td>\n      <td>300000.000000</td>\n      <td>300000.000000</td>\n      <td>300000.000000</td>\n      <td>300000.000000</td>\n      <td>300000.000000</td>\n      <td>300000.000000</td>\n      <td>300000.000000</td>\n      <td>300000.000000</td>\n      <td>300000.000000</td>\n      <td>300000.000000</td>\n    </tr>\n    <tr>\n      <th>mean</th>\n      <td>249825.145857</td>\n      <td>0.506873</td>\n      <td>0.497898</td>\n      <td>0.521557</td>\n      <td>0.515683</td>\n      <td>0.502022</td>\n      <td>0.526515</td>\n      <td>0.487890</td>\n      <td>0.525163</td>\n      <td>0.459857</td>\n      <td>0.520532</td>\n      <td>0.483926</td>\n      <td>0.506877</td>\n      <td>0.553442</td>\n      <td>0.503713</td>\n      <td>7.905661</td>\n    </tr>\n    <tr>\n      <th>std</th>\n      <td>144476.732562</td>\n      <td>0.203976</td>\n      <td>0.228159</td>\n      <td>0.200770</td>\n      <td>0.233035</td>\n      <td>0.220701</td>\n      <td>0.217909</td>\n      <td>0.181096</td>\n      <td>0.216221</td>\n      <td>0.196685</td>\n      <td>0.201854</td>\n      <td>0.220082</td>\n      <td>0.218947</td>\n      <td>0.229730</td>\n      <td>0.208238</td>\n      <td>0.733071</td>\n    </tr>\n    <tr>\n      <th>min</th>\n      <td>1.000000</td>\n      <td>-0.082263</td>\n      <td>-0.031397</td>\n      <td>0.020967</td>\n      <td>0.152761</td>\n      <td>0.276377</td>\n      <td>0.066166</td>\n      <td>-0.097666</td>\n      <td>0.217260</td>\n      <td>-0.240604</td>\n      <td>-0.085046</td>\n      <td>0.083277</td>\n      <td>0.088635</td>\n      <td>0.029950</td>\n      <td>0.166367</td>\n      <td>0.000000</td>\n    </tr>\n    <tr>\n      <th>25%</th>\n      <td>124656.500000</td>\n      <td>0.343078</td>\n      <td>0.319170</td>\n      <td>0.344096</td>\n      <td>0.294935</td>\n      <td>0.284108</td>\n      <td>0.356163</td>\n      <td>0.346600</td>\n      <td>0.341486</td>\n      <td>0.330832</td>\n      <td>0.375465</td>\n      <td>0.300474</td>\n      <td>0.310166</td>\n      <td>0.350472</td>\n      <td>0.308673</td>\n      <td>7.329367</td>\n    </tr>\n    <tr>\n      <th>50%</th>\n      <td>249738.500000</td>\n      <td>0.484005</td>\n      <td>0.553209</td>\n      <td>0.551471</td>\n      <td>0.482880</td>\n      <td>0.451733</td>\n      <td>0.470988</td>\n      <td>0.466825</td>\n      <td>0.483460</td>\n      <td>0.416843</td>\n      <td>0.458877</td>\n      <td>0.441916</td>\n      <td>0.486599</td>\n      <td>0.487707</td>\n      <td>0.431845</td>\n      <td>7.940571</td>\n    </tr>\n    <tr>\n      <th>75%</th>\n      <td>374836.250000</td>\n      <td>0.643789</td>\n      <td>0.731263</td>\n      <td>0.648315</td>\n      <td>0.748705</td>\n      <td>0.670660</td>\n      <td>0.694043</td>\n      <td>0.581292</td>\n      <td>0.685250</td>\n      <td>0.575041</td>\n      <td>0.700292</td>\n      <td>0.679128</td>\n      <td>0.694453</td>\n      <td>0.768479</td>\n      <td>0.712653</td>\n      <td>8.470084</td>\n    </tr>\n    <tr>\n      <th>max</th>\n      <td>499999.000000</td>\n      <td>1.016227</td>\n      <td>0.859697</td>\n      <td>1.006955</td>\n      <td>1.010402</td>\n      <td>1.034261</td>\n      <td>1.043858</td>\n      <td>1.066167</td>\n      <td>1.024427</td>\n      <td>1.004114</td>\n      <td>1.199951</td>\n      <td>1.022620</td>\n      <td>1.049025</td>\n      <td>0.977845</td>\n      <td>0.868506</td>\n      <td>10.267569</td>\n    </tr>\n  </tbody>\n</table>\n</div>"
     },
     "metadata": {},
     "execution_count": 6
    }
   ],
   "source": [
    "train.describe()"
   ]
  },
  {
   "cell_type": "code",
   "execution_count": 27,
   "metadata": {},
   "outputs": [
    {
     "output_type": "execute_result",
     "data": {
      "text/plain": [
       "<AxesSubplot:>"
      ]
     },
     "metadata": {},
     "execution_count": 27
    },
    {
     "output_type": "display_data",
     "data": {
      "text/plain": "<Figure size 432x288 with 2 Axes>",
      "image/svg+xml": "<?xml version=\"1.0\" encoding=\"utf-8\" standalone=\"no\"?>\n<!DOCTYPE svg PUBLIC \"-//W3C//DTD SVG 1.1//EN\"\n  \"http://www.w3.org/Graphics/SVG/1.1/DTD/svg11.dtd\">\n<!-- Created with matplotlib (https://matplotlib.org/) -->\n<svg height=\"277.239219pt\" version=\"1.1\" viewBox=\"0 0 382.734812 277.239219\" width=\"382.734812pt\" xmlns=\"http://www.w3.org/2000/svg\" xmlns:xlink=\"http://www.w3.org/1999/xlink\">\n <metadata>\n  <rdf:RDF xmlns:cc=\"http://creativecommons.org/ns#\" xmlns:dc=\"http://purl.org/dc/elements/1.1/\" xmlns:rdf=\"http://www.w3.org/1999/02/22-rdf-syntax-ns#\">\n   <cc:Work>\n    <dc:type rdf:resource=\"http://purl.org/dc/dcmitype/StillImage\"/>\n    <dc:date>2021-01-12T14:02:03.508997</dc:date>\n    <dc:format>image/svg+xml</dc:format>\n    <dc:creator>\n     <cc:Agent>\n      <dc:title>Matplotlib v3.3.2, https://matplotlib.org/</dc:title>\n     </cc:Agent>\n    </dc:creator>\n   </cc:Work>\n  </rdf:RDF>\n </metadata>\n <defs>\n  <style type=\"text/css\">*{stroke-linecap:butt;stroke-linejoin:round;}</style>\n </defs>\n <g id=\"figure_1\">\n  <g id=\"patch_1\">\n   <path d=\"M 0 277.239219 \nL 382.734812 277.239219 \nL 382.734812 0 \nL 0 0 \nz\n\" style=\"fill:none;\"/>\n  </g>\n  <g id=\"axes_1\">\n   <g id=\"patch_2\">\n    <path d=\"M 48.8 228.439219 \nL 316.64 228.439219 \nL 316.64 10.999219 \nL 48.8 10.999219 \nz\n\" style=\"fill:#ffffff;\"/>\n   </g>\n   <g id=\"QuadMesh_1\">\n    <path clip-path=\"url(#p9ad2ecf6ec)\" d=\"M 48.8 10.999219 \nL 65.54 10.999219 \nL 65.54 24.589219 \nL 48.8 24.589219 \nL 48.8 10.999219 \n\" style=\"fill:#faebdd;\"/>\n    <path clip-path=\"url(#p9ad2ecf6ec)\" d=\"M 65.54 10.999219 \nL 82.28 10.999219 \nL 82.28 24.589219 \nL 65.54 24.589219 \nL 65.54 10.999219 \n\" style=\"fill:#731f58;\"/>\n    <path clip-path=\"url(#p9ad2ecf6ec)\" d=\"M 82.28 10.999219 \nL 99.02 10.999219 \nL 99.02 24.589219 \nL 82.28 24.589219 \nL 82.28 10.999219 \n\" style=\"fill:#731f58;\"/>\n    <path clip-path=\"url(#p9ad2ecf6ec)\" d=\"M 99.02 10.999219 \nL 115.76 10.999219 \nL 115.76 24.589219 \nL 99.02 24.589219 \nL 99.02 10.999219 \n\" style=\"fill:#731f58;\"/>\n    <path clip-path=\"url(#p9ad2ecf6ec)\" d=\"M 115.76 10.999219 \nL 132.5 10.999219 \nL 132.5 24.589219 \nL 115.76 24.589219 \nL 115.76 10.999219 \n\" style=\"fill:#751f58;\"/>\n    <path clip-path=\"url(#p9ad2ecf6ec)\" d=\"M 132.5 10.999219 \nL 149.24 10.999219 \nL 149.24 24.589219 \nL 132.5 24.589219 \nL 132.5 10.999219 \n\" style=\"fill:#751f58;\"/>\n    <path clip-path=\"url(#p9ad2ecf6ec)\" d=\"M 149.24 10.999219 \nL 165.98 10.999219 \nL 165.98 24.589219 \nL 149.24 24.589219 \nL 149.24 10.999219 \n\" style=\"fill:#731f58;\"/>\n    <path clip-path=\"url(#p9ad2ecf6ec)\" d=\"M 165.98 10.999219 \nL 182.72 10.999219 \nL 182.72 24.589219 \nL 165.98 24.589219 \nL 165.98 10.999219 \n\" style=\"fill:#731f58;\"/>\n    <path clip-path=\"url(#p9ad2ecf6ec)\" d=\"M 182.72 10.999219 \nL 199.46 10.999219 \nL 199.46 24.589219 \nL 182.72 24.589219 \nL 182.72 10.999219 \n\" style=\"fill:#751f58;\"/>\n    <path clip-path=\"url(#p9ad2ecf6ec)\" d=\"M 199.46 10.999219 \nL 216.2 10.999219 \nL 216.2 24.589219 \nL 199.46 24.589219 \nL 199.46 10.999219 \n\" style=\"fill:#731f58;\"/>\n    <path clip-path=\"url(#p9ad2ecf6ec)\" d=\"M 216.2 10.999219 \nL 232.94 10.999219 \nL 232.94 24.589219 \nL 216.2 24.589219 \nL 216.2 10.999219 \n\" style=\"fill:#731f58;\"/>\n    <path clip-path=\"url(#p9ad2ecf6ec)\" d=\"M 232.94 10.999219 \nL 249.68 10.999219 \nL 249.68 24.589219 \nL 232.94 24.589219 \nL 232.94 10.999219 \n\" style=\"fill:#731f58;\"/>\n    <path clip-path=\"url(#p9ad2ecf6ec)\" d=\"M 249.68 10.999219 \nL 266.42 10.999219 \nL 266.42 24.589219 \nL 249.68 24.589219 \nL 249.68 10.999219 \n\" style=\"fill:#731f58;\"/>\n    <path clip-path=\"url(#p9ad2ecf6ec)\" d=\"M 266.42 10.999219 \nL 283.16 10.999219 \nL 283.16 24.589219 \nL 266.42 24.589219 \nL 266.42 10.999219 \n\" style=\"fill:#731f58;\"/>\n    <path clip-path=\"url(#p9ad2ecf6ec)\" d=\"M 283.16 10.999219 \nL 299.9 10.999219 \nL 299.9 24.589219 \nL 283.16 24.589219 \nL 283.16 10.999219 \n\" style=\"fill:#751f58;\"/>\n    <path clip-path=\"url(#p9ad2ecf6ec)\" d=\"M 299.9 10.999219 \nL 316.64 10.999219 \nL 316.64 24.589219 \nL 299.9 24.589219 \nL 299.9 10.999219 \n\" style=\"fill:#731f58;\"/>\n    <path clip-path=\"url(#p9ad2ecf6ec)\" d=\"M 48.8 24.589219 \nL 65.54 24.589219 \nL 65.54 38.179219 \nL 48.8 38.179219 \nL 48.8 24.589219 \n\" style=\"fill:#731f58;\"/>\n    <path clip-path=\"url(#p9ad2ecf6ec)\" d=\"M 65.54 24.589219 \nL 82.28 24.589219 \nL 82.28 38.179219 \nL 65.54 38.179219 \nL 65.54 24.589219 \n\" style=\"fill:#faebdd;\"/>\n    <path clip-path=\"url(#p9ad2ecf6ec)\" d=\"M 82.28 24.589219 \nL 99.02 24.589219 \nL 99.02 38.179219 \nL 82.28 38.179219 \nL 82.28 24.589219 \n\" style=\"fill:#5c1e51;\"/>\n    <path clip-path=\"url(#p9ad2ecf6ec)\" d=\"M 99.02 24.589219 \nL 115.76 24.589219 \nL 115.76 38.179219 \nL 99.02 38.179219 \nL 99.02 24.589219 \n\" style=\"fill:#03051a;\"/>\n    <path clip-path=\"url(#p9ad2ecf6ec)\" d=\"M 115.76 24.589219 \nL 132.5 24.589219 \nL 132.5 38.179219 \nL 115.76 38.179219 \nL 115.76 24.589219 \n\" style=\"fill:#c71951;\"/>\n    <path clip-path=\"url(#p9ad2ecf6ec)\" d=\"M 132.5 24.589219 \nL 149.24 24.589219 \nL 149.24 38.179219 \nL 132.5 38.179219 \nL 132.5 24.589219 \n\" style=\"fill:#631f53;\"/>\n    <path clip-path=\"url(#p9ad2ecf6ec)\" d=\"M 149.24 24.589219 \nL 165.98 24.589219 \nL 165.98 38.179219 \nL 149.24 38.179219 \nL 149.24 24.589219 \n\" style=\"fill:#f5976e;\"/>\n    <path clip-path=\"url(#p9ad2ecf6ec)\" d=\"M 165.98 24.589219 \nL 182.72 24.589219 \nL 182.72 38.179219 \nL 165.98 38.179219 \nL 165.98 24.589219 \n\" style=\"fill:#d72549;\"/>\n    <path clip-path=\"url(#p9ad2ecf6ec)\" d=\"M 182.72 24.589219 \nL 199.46 24.589219 \nL 199.46 38.179219 \nL 182.72 38.179219 \nL 182.72 24.589219 \n\" style=\"fill:#de2e44;\"/>\n    <path clip-path=\"url(#p9ad2ecf6ec)\" d=\"M 199.46 24.589219 \nL 216.2 24.589219 \nL 216.2 38.179219 \nL 199.46 38.179219 \nL 199.46 24.589219 \n\" style=\"fill:#f6b38d;\"/>\n    <path clip-path=\"url(#p9ad2ecf6ec)\" d=\"M 216.2 24.589219 \nL 232.94 24.589219 \nL 232.94 38.179219 \nL 216.2 38.179219 \nL 216.2 24.589219 \n\" style=\"fill:#f6a077;\"/>\n    <path clip-path=\"url(#p9ad2ecf6ec)\" d=\"M 232.94 24.589219 \nL 249.68 24.589219 \nL 249.68 38.179219 \nL 232.94 38.179219 \nL 232.94 24.589219 \n\" style=\"fill:#f26d4b;\"/>\n    <path clip-path=\"url(#p9ad2ecf6ec)\" d=\"M 249.68 24.589219 \nL 266.42 24.589219 \nL 266.42 38.179219 \nL 249.68 38.179219 \nL 249.68 24.589219 \n\" style=\"fill:#f37852;\"/>\n    <path clip-path=\"url(#p9ad2ecf6ec)\" d=\"M 266.42 24.589219 \nL 283.16 24.589219 \nL 283.16 38.179219 \nL 266.42 38.179219 \nL 266.42 24.589219 \n\" style=\"fill:#f26f4c;\"/>\n    <path clip-path=\"url(#p9ad2ecf6ec)\" d=\"M 283.16 24.589219 \nL 299.9 24.589219 \nL 299.9 38.179219 \nL 283.16 38.179219 \nL 283.16 24.589219 \n\" style=\"fill:#871e5b;\"/>\n    <path clip-path=\"url(#p9ad2ecf6ec)\" d=\"M 299.9 24.589219 \nL 316.64 24.589219 \nL 316.64 38.179219 \nL 299.9 38.179219 \nL 299.9 24.589219 \n\" style=\"fill:#691f55;\"/>\n    <path clip-path=\"url(#p9ad2ecf6ec)\" d=\"M 48.8 38.179219 \nL 65.54 38.179219 \nL 65.54 51.769219 \nL 48.8 51.769219 \nL 48.8 38.179219 \n\" style=\"fill:#731f58;\"/>\n    <path clip-path=\"url(#p9ad2ecf6ec)\" d=\"M 65.54 38.179219 \nL 82.28 38.179219 \nL 82.28 51.769219 \nL 65.54 51.769219 \nL 65.54 38.179219 \n\" style=\"fill:#5c1e51;\"/>\n    <path clip-path=\"url(#p9ad2ecf6ec)\" d=\"M 82.28 38.179219 \nL 99.02 38.179219 \nL 99.02 51.769219 \nL 82.28 51.769219 \nL 82.28 38.179219 \n\" style=\"fill:#faebdd;\"/>\n    <path clip-path=\"url(#p9ad2ecf6ec)\" d=\"M 99.02 38.179219 \nL 115.76 38.179219 \nL 115.76 51.769219 \nL 99.02 51.769219 \nL 99.02 38.179219 \n\" style=\"fill:#d5224a;\"/>\n    <path clip-path=\"url(#p9ad2ecf6ec)\" d=\"M 115.76 38.179219 \nL 132.5 38.179219 \nL 132.5 51.769219 \nL 115.76 51.769219 \nL 115.76 38.179219 \n\" style=\"fill:#711f57;\"/>\n    <path clip-path=\"url(#p9ad2ecf6ec)\" d=\"M 132.5 38.179219 \nL 149.24 38.179219 \nL 149.24 51.769219 \nL 132.5 51.769219 \nL 132.5 38.179219 \n\" style=\"fill:#a11a5b;\"/>\n    <path clip-path=\"url(#p9ad2ecf6ec)\" d=\"M 149.24 38.179219 \nL 165.98 38.179219 \nL 165.98 51.769219 \nL 149.24 51.769219 \nL 149.24 38.179219 \n\" style=\"fill:#7a1f59;\"/>\n    <path clip-path=\"url(#p9ad2ecf6ec)\" d=\"M 165.98 38.179219 \nL 182.72 38.179219 \nL 182.72 51.769219 \nL 165.98 51.769219 \nL 165.98 38.179219 \n\" style=\"fill:#971c5b;\"/>\n    <path clip-path=\"url(#p9ad2ecf6ec)\" d=\"M 182.72 38.179219 \nL 199.46 38.179219 \nL 199.46 51.769219 \nL 182.72 51.769219 \nL 182.72 38.179219 \n\" style=\"fill:#8c1d5b;\"/>\n    <path clip-path=\"url(#p9ad2ecf6ec)\" d=\"M 199.46 38.179219 \nL 216.2 38.179219 \nL 216.2 51.769219 \nL 199.46 51.769219 \nL 199.46 38.179219 \n\" style=\"fill:#661f54;\"/>\n    <path clip-path=\"url(#p9ad2ecf6ec)\" d=\"M 216.2 38.179219 \nL 232.94 38.179219 \nL 232.94 51.769219 \nL 216.2 51.769219 \nL 216.2 38.179219 \n\" style=\"fill:#7f1e5a;\"/>\n    <path clip-path=\"url(#p9ad2ecf6ec)\" d=\"M 232.94 38.179219 \nL 249.68 38.179219 \nL 249.68 51.769219 \nL 232.94 51.769219 \nL 232.94 38.179219 \n\" style=\"fill:#9a1b5b;\"/>\n    <path clip-path=\"url(#p9ad2ecf6ec)\" d=\"M 249.68 38.179219 \nL 266.42 38.179219 \nL 266.42 51.769219 \nL 249.68 51.769219 \nL 249.68 38.179219 \n\" style=\"fill:#901d5b;\"/>\n    <path clip-path=\"url(#p9ad2ecf6ec)\" d=\"M 266.42 38.179219 \nL 283.16 38.179219 \nL 283.16 51.769219 \nL 266.42 51.769219 \nL 266.42 38.179219 \n\" style=\"fill:#781f59;\"/>\n    <path clip-path=\"url(#p9ad2ecf6ec)\" d=\"M 283.16 38.179219 \nL 299.9 38.179219 \nL 299.9 51.769219 \nL 283.16 51.769219 \nL 283.16 38.179219 \n\" style=\"fill:#7b1f59;\"/>\n    <path clip-path=\"url(#p9ad2ecf6ec)\" d=\"M 299.9 38.179219 \nL 316.64 38.179219 \nL 316.64 51.769219 \nL 299.9 51.769219 \nL 299.9 38.179219 \n\" style=\"fill:#871e5b;\"/>\n    <path clip-path=\"url(#p9ad2ecf6ec)\" d=\"M 48.8 51.769219 \nL 65.54 51.769219 \nL 65.54 65.359219 \nL 48.8 65.359219 \nL 48.8 51.769219 \n\" style=\"fill:#731f58;\"/>\n    <path clip-path=\"url(#p9ad2ecf6ec)\" d=\"M 65.54 51.769219 \nL 82.28 51.769219 \nL 82.28 65.359219 \nL 65.54 65.359219 \nL 65.54 51.769219 \n\" style=\"fill:#03051a;\"/>\n    <path clip-path=\"url(#p9ad2ecf6ec)\" d=\"M 82.28 51.769219 \nL 99.02 51.769219 \nL 99.02 65.359219 \nL 82.28 65.359219 \nL 82.28 51.769219 \n\" style=\"fill:#d5224a;\"/>\n    <path clip-path=\"url(#p9ad2ecf6ec)\" d=\"M 99.02 51.769219 \nL 115.76 51.769219 \nL 115.76 65.359219 \nL 99.02 65.359219 \nL 99.02 51.769219 \n\" style=\"fill:#faebdd;\"/>\n    <path clip-path=\"url(#p9ad2ecf6ec)\" d=\"M 115.76 51.769219 \nL 132.5 51.769219 \nL 132.5 65.359219 \nL 115.76 65.359219 \nL 115.76 51.769219 \n\" style=\"fill:#180f29;\"/>\n    <path clip-path=\"url(#p9ad2ecf6ec)\" d=\"M 132.5 51.769219 \nL 149.24 51.769219 \nL 149.24 65.359219 \nL 132.5 65.359219 \nL 132.5 51.769219 \n\" style=\"fill:#861e5b;\"/>\n    <path clip-path=\"url(#p9ad2ecf6ec)\" d=\"M 149.24 51.769219 \nL 165.98 51.769219 \nL 165.98 65.359219 \nL 149.24 65.359219 \nL 149.24 51.769219 \n\" style=\"fill:#20122e;\"/>\n    <path clip-path=\"url(#p9ad2ecf6ec)\" d=\"M 165.98 51.769219 \nL 182.72 51.769219 \nL 182.72 65.359219 \nL 165.98 65.359219 \nL 165.98 51.769219 \n\" style=\"fill:#931c5b;\"/>\n    <path clip-path=\"url(#p9ad2ecf6ec)\" d=\"M 182.72 51.769219 \nL 199.46 51.769219 \nL 199.46 65.359219 \nL 182.72 65.359219 \nL 182.72 51.769219 \n\" style=\"fill:#1d112c;\"/>\n    <path clip-path=\"url(#p9ad2ecf6ec)\" d=\"M 199.46 51.769219 \nL 216.2 51.769219 \nL 216.2 65.359219 \nL 199.46 65.359219 \nL 199.46 51.769219 \n\" style=\"fill:#05061b;\"/>\n    <path clip-path=\"url(#p9ad2ecf6ec)\" d=\"M 216.2 51.769219 \nL 232.94 51.769219 \nL 232.94 65.359219 \nL 216.2 65.359219 \nL 216.2 51.769219 \n\" style=\"fill:#221331;\"/>\n    <path clip-path=\"url(#p9ad2ecf6ec)\" d=\"M 232.94 51.769219 \nL 249.68 51.769219 \nL 249.68 65.359219 \nL 232.94 65.359219 \nL 232.94 51.769219 \n\" style=\"fill:#5e1f52;\"/>\n    <path clip-path=\"url(#p9ad2ecf6ec)\" d=\"M 249.68 51.769219 \nL 266.42 51.769219 \nL 266.42 65.359219 \nL 249.68 65.359219 \nL 249.68 51.769219 \n\" style=\"fill:#541e4e;\"/>\n    <path clip-path=\"url(#p9ad2ecf6ec)\" d=\"M 266.42 51.769219 \nL 283.16 51.769219 \nL 283.16 65.359219 \nL 266.42 65.359219 \nL 266.42 51.769219 \n\" style=\"fill:#08081e;\"/>\n    <path clip-path=\"url(#p9ad2ecf6ec)\" d=\"M 283.16 51.769219 \nL 299.9 51.769219 \nL 299.9 65.359219 \nL 283.16 65.359219 \nL 283.16 51.769219 \n\" style=\"fill:#601f52;\"/>\n    <path clip-path=\"url(#p9ad2ecf6ec)\" d=\"M 299.9 51.769219 \nL 316.64 51.769219 \nL 316.64 65.359219 \nL 299.9 65.359219 \nL 299.9 51.769219 \n\" style=\"fill:#861e5b;\"/>\n    <path clip-path=\"url(#p9ad2ecf6ec)\" d=\"M 48.8 65.359219 \nL 65.54 65.359219 \nL 65.54 78.949219 \nL 48.8 78.949219 \nL 48.8 65.359219 \n\" style=\"fill:#751f58;\"/>\n    <path clip-path=\"url(#p9ad2ecf6ec)\" d=\"M 65.54 65.359219 \nL 82.28 65.359219 \nL 82.28 78.949219 \nL 65.54 78.949219 \nL 65.54 65.359219 \n\" style=\"fill:#c71951;\"/>\n    <path clip-path=\"url(#p9ad2ecf6ec)\" d=\"M 82.28 65.359219 \nL 99.02 65.359219 \nL 99.02 78.949219 \nL 82.28 78.949219 \nL 82.28 65.359219 \n\" style=\"fill:#711f57;\"/>\n    <path clip-path=\"url(#p9ad2ecf6ec)\" d=\"M 99.02 65.359219 \nL 115.76 65.359219 \nL 115.76 78.949219 \nL 99.02 78.949219 \nL 99.02 65.359219 \n\" style=\"fill:#180f29;\"/>\n    <path clip-path=\"url(#p9ad2ecf6ec)\" d=\"M 115.76 65.359219 \nL 132.5 65.359219 \nL 132.5 78.949219 \nL 115.76 78.949219 \nL 115.76 65.359219 \n\" style=\"fill:#faebdd;\"/>\n    <path clip-path=\"url(#p9ad2ecf6ec)\" d=\"M 132.5 65.359219 \nL 149.24 65.359219 \nL 149.24 78.949219 \nL 132.5 78.949219 \nL 132.5 65.359219 \n\" style=\"fill:#981b5b;\"/>\n    <path clip-path=\"url(#p9ad2ecf6ec)\" d=\"M 149.24 65.359219 \nL 165.98 65.359219 \nL 165.98 78.949219 \nL 149.24 78.949219 \nL 149.24 65.359219 \n\" style=\"fill:#a3195b;\"/>\n    <path clip-path=\"url(#p9ad2ecf6ec)\" d=\"M 165.98 65.359219 \nL 182.72 65.359219 \nL 182.72 78.949219 \nL 165.98 78.949219 \nL 165.98 65.359219 \n\" style=\"fill:#5c1e51;\"/>\n    <path clip-path=\"url(#p9ad2ecf6ec)\" d=\"M 182.72 65.359219 \nL 199.46 65.359219 \nL 199.46 78.949219 \nL 182.72 78.949219 \nL 182.72 65.359219 \n\" style=\"fill:#d3214b;\"/>\n    <path clip-path=\"url(#p9ad2ecf6ec)\" d=\"M 199.46 65.359219 \nL 216.2 65.359219 \nL 216.2 78.949219 \nL 199.46 78.949219 \nL 199.46 65.359219 \n\" style=\"fill:#c21753;\"/>\n    <path clip-path=\"url(#p9ad2ecf6ec)\" d=\"M 216.2 65.359219 \nL 232.94 65.359219 \nL 232.94 78.949219 \nL 216.2 78.949219 \nL 216.2 65.359219 \n\" style=\"fill:#b21758;\"/>\n    <path clip-path=\"url(#p9ad2ecf6ec)\" d=\"M 232.94 65.359219 \nL 249.68 65.359219 \nL 249.68 78.949219 \nL 232.94 78.949219 \nL 232.94 65.359219 \n\" style=\"fill:#871e5b;\"/>\n    <path clip-path=\"url(#p9ad2ecf6ec)\" d=\"M 249.68 65.359219 \nL 266.42 65.359219 \nL 266.42 78.949219 \nL 249.68 78.949219 \nL 249.68 65.359219 \n\" style=\"fill:#891e5b;\"/>\n    <path clip-path=\"url(#p9ad2ecf6ec)\" d=\"M 266.42 65.359219 \nL 283.16 65.359219 \nL 283.16 78.949219 \nL 266.42 78.949219 \nL 266.42 65.359219 \n\" style=\"fill:#a3195b;\"/>\n    <path clip-path=\"url(#p9ad2ecf6ec)\" d=\"M 283.16 65.359219 \nL 299.9 65.359219 \nL 299.9 78.949219 \nL 283.16 78.949219 \nL 283.16 65.359219 \n\" style=\"fill:#841e5a;\"/>\n    <path clip-path=\"url(#p9ad2ecf6ec)\" d=\"M 299.9 65.359219 \nL 316.64 65.359219 \nL 316.64 78.949219 \nL 299.9 78.949219 \nL 299.9 65.359219 \n\" style=\"fill:#751f58;\"/>\n    <path clip-path=\"url(#p9ad2ecf6ec)\" d=\"M 48.8 78.949219 \nL 65.54 78.949219 \nL 65.54 92.539219 \nL 48.8 92.539219 \nL 48.8 78.949219 \n\" style=\"fill:#751f58;\"/>\n    <path clip-path=\"url(#p9ad2ecf6ec)\" d=\"M 65.54 78.949219 \nL 82.28 78.949219 \nL 82.28 92.539219 \nL 65.54 92.539219 \nL 65.54 78.949219 \n\" style=\"fill:#631f53;\"/>\n    <path clip-path=\"url(#p9ad2ecf6ec)\" d=\"M 82.28 78.949219 \nL 99.02 78.949219 \nL 99.02 92.539219 \nL 82.28 92.539219 \nL 82.28 78.949219 \n\" style=\"fill:#a11a5b;\"/>\n    <path clip-path=\"url(#p9ad2ecf6ec)\" d=\"M 99.02 78.949219 \nL 115.76 78.949219 \nL 115.76 92.539219 \nL 99.02 92.539219 \nL 99.02 78.949219 \n\" style=\"fill:#861e5b;\"/>\n    <path clip-path=\"url(#p9ad2ecf6ec)\" d=\"M 115.76 78.949219 \nL 132.5 78.949219 \nL 132.5 92.539219 \nL 115.76 92.539219 \nL 115.76 78.949219 \n\" style=\"fill:#981b5b;\"/>\n    <path clip-path=\"url(#p9ad2ecf6ec)\" d=\"M 132.5 78.949219 \nL 149.24 78.949219 \nL 149.24 92.539219 \nL 132.5 92.539219 \nL 132.5 78.949219 \n\" style=\"fill:#faebdd;\"/>\n    <path clip-path=\"url(#p9ad2ecf6ec)\" d=\"M 149.24 78.949219 \nL 165.98 78.949219 \nL 165.98 92.539219 \nL 149.24 92.539219 \nL 149.24 78.949219 \n\" style=\"fill:#401b44;\"/>\n    <path clip-path=\"url(#p9ad2ecf6ec)\" d=\"M 165.98 78.949219 \nL 182.72 78.949219 \nL 182.72 92.539219 \nL 165.98 92.539219 \nL 165.98 78.949219 \n\" style=\"fill:#30173a;\"/>\n    <path clip-path=\"url(#p9ad2ecf6ec)\" d=\"M 182.72 78.949219 \nL 199.46 78.949219 \nL 199.46 92.539219 \nL 182.72 92.539219 \nL 182.72 78.949219 \n\" style=\"fill:#761f58;\"/>\n    <path clip-path=\"url(#p9ad2ecf6ec)\" d=\"M 199.46 78.949219 \nL 216.2 78.949219 \nL 216.2 92.539219 \nL 199.46 92.539219 \nL 199.46 78.949219 \n\" style=\"fill:#5e1f52;\"/>\n    <path clip-path=\"url(#p9ad2ecf6ec)\" d=\"M 216.2 78.949219 \nL 232.94 78.949219 \nL 232.94 92.539219 \nL 216.2 92.539219 \nL 216.2 78.949219 \n\" style=\"fill:#561e4f;\"/>\n    <path clip-path=\"url(#p9ad2ecf6ec)\" d=\"M 232.94 78.949219 \nL 249.68 78.949219 \nL 249.68 92.539219 \nL 232.94 92.539219 \nL 232.94 78.949219 \n\" style=\"fill:#34193d;\"/>\n    <path clip-path=\"url(#p9ad2ecf6ec)\" d=\"M 249.68 78.949219 \nL 266.42 78.949219 \nL 266.42 92.539219 \nL 249.68 92.539219 \nL 249.68 78.949219 \n\" style=\"fill:#3c1a42;\"/>\n    <path clip-path=\"url(#p9ad2ecf6ec)\" d=\"M 266.42 78.949219 \nL 283.16 78.949219 \nL 283.16 92.539219 \nL 266.42 92.539219 \nL 266.42 78.949219 \n\" style=\"fill:#4b1d4a;\"/>\n    <path clip-path=\"url(#p9ad2ecf6ec)\" d=\"M 283.16 78.949219 \nL 299.9 78.949219 \nL 299.9 92.539219 \nL 283.16 92.539219 \nL 283.16 78.949219 \n\" style=\"fill:#7f1e5a;\"/>\n    <path clip-path=\"url(#p9ad2ecf6ec)\" d=\"M 299.9 78.949219 \nL 316.64 78.949219 \nL 316.64 92.539219 \nL 299.9 92.539219 \nL 299.9 78.949219 \n\" style=\"fill:#711f57;\"/>\n    <path clip-path=\"url(#p9ad2ecf6ec)\" d=\"M 48.8 92.539219 \nL 65.54 92.539219 \nL 65.54 106.129219 \nL 48.8 106.129219 \nL 48.8 92.539219 \n\" style=\"fill:#731f58;\"/>\n    <path clip-path=\"url(#p9ad2ecf6ec)\" d=\"M 65.54 92.539219 \nL 82.28 92.539219 \nL 82.28 106.129219 \nL 65.54 106.129219 \nL 65.54 92.539219 \n\" style=\"fill:#f5976e;\"/>\n    <path clip-path=\"url(#p9ad2ecf6ec)\" d=\"M 82.28 92.539219 \nL 99.02 92.539219 \nL 99.02 106.129219 \nL 82.28 106.129219 \nL 82.28 92.539219 \n\" style=\"fill:#7a1f59;\"/>\n    <path clip-path=\"url(#p9ad2ecf6ec)\" d=\"M 99.02 92.539219 \nL 115.76 92.539219 \nL 115.76 106.129219 \nL 99.02 106.129219 \nL 99.02 92.539219 \n\" style=\"fill:#20122e;\"/>\n    <path clip-path=\"url(#p9ad2ecf6ec)\" d=\"M 115.76 92.539219 \nL 132.5 92.539219 \nL 132.5 106.129219 \nL 115.76 106.129219 \nL 115.76 92.539219 \n\" style=\"fill:#a3195b;\"/>\n    <path clip-path=\"url(#p9ad2ecf6ec)\" d=\"M 132.5 92.539219 \nL 149.24 92.539219 \nL 149.24 106.129219 \nL 132.5 106.129219 \nL 132.5 92.539219 \n\" style=\"fill:#401b44;\"/>\n    <path clip-path=\"url(#p9ad2ecf6ec)\" d=\"M 149.24 92.539219 \nL 165.98 92.539219 \nL 165.98 106.129219 \nL 149.24 106.129219 \nL 149.24 92.539219 \n\" style=\"fill:#faebdd;\"/>\n    <path clip-path=\"url(#p9ad2ecf6ec)\" d=\"M 165.98 92.539219 \nL 182.72 92.539219 \nL 182.72 106.129219 \nL 165.98 106.129219 \nL 165.98 92.539219 \n\" style=\"fill:#f16646;\"/>\n    <path clip-path=\"url(#p9ad2ecf6ec)\" d=\"M 182.72 92.539219 \nL 199.46 92.539219 \nL 199.46 106.129219 \nL 182.72 106.129219 \nL 182.72 92.539219 \n\" style=\"fill:#e53940;\"/>\n    <path clip-path=\"url(#p9ad2ecf6ec)\" d=\"M 199.46 92.539219 \nL 216.2 92.539219 \nL 216.2 106.129219 \nL 199.46 106.129219 \nL 199.46 92.539219 \n\" style=\"fill:#f69c73;\"/>\n    <path clip-path=\"url(#p9ad2ecf6ec)\" d=\"M 216.2 92.539219 \nL 232.94 92.539219 \nL 232.94 106.129219 \nL 216.2 106.129219 \nL 216.2 92.539219 \n\" style=\"fill:#f6ad85;\"/>\n    <path clip-path=\"url(#p9ad2ecf6ec)\" d=\"M 232.94 92.539219 \nL 249.68 92.539219 \nL 249.68 106.129219 \nL 232.94 106.129219 \nL 232.94 92.539219 \n\" style=\"fill:#f6a37a;\"/>\n    <path clip-path=\"url(#p9ad2ecf6ec)\" d=\"M 249.68 92.539219 \nL 266.42 92.539219 \nL 266.42 106.129219 \nL 249.68 106.129219 \nL 249.68 92.539219 \n\" style=\"fill:#f6a981;\"/>\n    <path clip-path=\"url(#p9ad2ecf6ec)\" d=\"M 266.42 92.539219 \nL 283.16 92.539219 \nL 283.16 106.129219 \nL 266.42 106.129219 \nL 266.42 92.539219 \n\" style=\"fill:#f6b089;\"/>\n    <path clip-path=\"url(#p9ad2ecf6ec)\" d=\"M 283.16 92.539219 \nL 299.9 92.539219 \nL 299.9 106.129219 \nL 283.16 106.129219 \nL 283.16 92.539219 \n\" style=\"fill:#871e5b;\"/>\n    <path clip-path=\"url(#p9ad2ecf6ec)\" d=\"M 299.9 92.539219 \nL 316.64 92.539219 \nL 316.64 106.129219 \nL 299.9 106.129219 \nL 299.9 92.539219 \n\" style=\"fill:#7b1f59;\"/>\n    <path clip-path=\"url(#p9ad2ecf6ec)\" d=\"M 48.8 106.129219 \nL 65.54 106.129219 \nL 65.54 119.719219 \nL 48.8 119.719219 \nL 48.8 106.129219 \n\" style=\"fill:#731f58;\"/>\n    <path clip-path=\"url(#p9ad2ecf6ec)\" d=\"M 65.54 106.129219 \nL 82.28 106.129219 \nL 82.28 119.719219 \nL 65.54 119.719219 \nL 65.54 106.129219 \n\" style=\"fill:#d72549;\"/>\n    <path clip-path=\"url(#p9ad2ecf6ec)\" d=\"M 82.28 106.129219 \nL 99.02 106.129219 \nL 99.02 119.719219 \nL 82.28 119.719219 \nL 82.28 106.129219 \n\" style=\"fill:#971c5b;\"/>\n    <path clip-path=\"url(#p9ad2ecf6ec)\" d=\"M 99.02 106.129219 \nL 115.76 106.129219 \nL 115.76 119.719219 \nL 99.02 119.719219 \nL 99.02 106.129219 \n\" style=\"fill:#931c5b;\"/>\n    <path clip-path=\"url(#p9ad2ecf6ec)\" d=\"M 115.76 106.129219 \nL 132.5 106.129219 \nL 132.5 119.719219 \nL 115.76 119.719219 \nL 115.76 106.129219 \n\" style=\"fill:#5c1e51;\"/>\n    <path clip-path=\"url(#p9ad2ecf6ec)\" d=\"M 132.5 106.129219 \nL 149.24 106.129219 \nL 149.24 119.719219 \nL 132.5 119.719219 \nL 132.5 106.129219 \n\" style=\"fill:#30173a;\"/>\n    <path clip-path=\"url(#p9ad2ecf6ec)\" d=\"M 149.24 106.129219 \nL 165.98 106.129219 \nL 165.98 119.719219 \nL 149.24 119.719219 \nL 149.24 106.129219 \n\" style=\"fill:#f16646;\"/>\n    <path clip-path=\"url(#p9ad2ecf6ec)\" d=\"M 165.98 106.129219 \nL 182.72 106.129219 \nL 182.72 119.719219 \nL 165.98 119.719219 \nL 165.98 106.129219 \n\" style=\"fill:#faebdd;\"/>\n    <path clip-path=\"url(#p9ad2ecf6ec)\" d=\"M 182.72 106.129219 \nL 199.46 106.129219 \nL 199.46 119.719219 \nL 182.72 119.719219 \nL 182.72 106.129219 \n\" style=\"fill:#a11a5b;\"/>\n    <path clip-path=\"url(#p9ad2ecf6ec)\" d=\"M 199.46 106.129219 \nL 216.2 106.129219 \nL 216.2 119.719219 \nL 199.46 119.719219 \nL 199.46 106.129219 \n\" style=\"fill:#d72549;\"/>\n    <path clip-path=\"url(#p9ad2ecf6ec)\" d=\"M 216.2 106.129219 \nL 232.94 106.129219 \nL 232.94 119.719219 \nL 216.2 119.719219 \nL 216.2 106.129219 \n\" style=\"fill:#ec4a3e;\"/>\n    <path clip-path=\"url(#p9ad2ecf6ec)\" d=\"M 232.94 106.129219 \nL 249.68 106.129219 \nL 249.68 119.719219 \nL 232.94 119.719219 \nL 232.94 106.129219 \n\" style=\"fill:#f58f66;\"/>\n    <path clip-path=\"url(#p9ad2ecf6ec)\" d=\"M 249.68 106.129219 \nL 266.42 106.129219 \nL 266.42 119.719219 \nL 249.68 119.719219 \nL 249.68 106.129219 \n\" style=\"fill:#f58b63;\"/>\n    <path clip-path=\"url(#p9ad2ecf6ec)\" d=\"M 266.42 106.129219 \nL 283.16 106.129219 \nL 283.16 119.719219 \nL 266.42 119.719219 \nL 266.42 106.129219 \n\" style=\"fill:#d2204c;\"/>\n    <path clip-path=\"url(#p9ad2ecf6ec)\" d=\"M 283.16 106.129219 \nL 299.9 106.129219 \nL 299.9 119.719219 \nL 283.16 119.719219 \nL 283.16 106.129219 \n\" style=\"fill:#681f55;\"/>\n    <path clip-path=\"url(#p9ad2ecf6ec)\" d=\"M 299.9 106.129219 \nL 316.64 106.129219 \nL 316.64 119.719219 \nL 299.9 119.719219 \nL 299.9 106.129219 \n\" style=\"fill:#871e5b;\"/>\n    <path clip-path=\"url(#p9ad2ecf6ec)\" d=\"M 48.8 119.719219 \nL 65.54 119.719219 \nL 65.54 133.309219 \nL 48.8 133.309219 \nL 48.8 119.719219 \n\" style=\"fill:#751f58;\"/>\n    <path clip-path=\"url(#p9ad2ecf6ec)\" d=\"M 65.54 119.719219 \nL 82.28 119.719219 \nL 82.28 133.309219 \nL 65.54 133.309219 \nL 65.54 119.719219 \n\" style=\"fill:#de2e44;\"/>\n    <path clip-path=\"url(#p9ad2ecf6ec)\" d=\"M 82.28 119.719219 \nL 99.02 119.719219 \nL 99.02 133.309219 \nL 82.28 133.309219 \nL 82.28 119.719219 \n\" style=\"fill:#8c1d5b;\"/>\n    <path clip-path=\"url(#p9ad2ecf6ec)\" d=\"M 99.02 119.719219 \nL 115.76 119.719219 \nL 115.76 133.309219 \nL 99.02 133.309219 \nL 99.02 119.719219 \n\" style=\"fill:#1d112c;\"/>\n    <path clip-path=\"url(#p9ad2ecf6ec)\" d=\"M 115.76 119.719219 \nL 132.5 119.719219 \nL 132.5 133.309219 \nL 115.76 133.309219 \nL 115.76 119.719219 \n\" style=\"fill:#d3214b;\"/>\n    <path clip-path=\"url(#p9ad2ecf6ec)\" d=\"M 132.5 119.719219 \nL 149.24 119.719219 \nL 149.24 133.309219 \nL 132.5 133.309219 \nL 132.5 119.719219 \n\" style=\"fill:#761f58;\"/>\n    <path clip-path=\"url(#p9ad2ecf6ec)\" d=\"M 149.24 119.719219 \nL 165.98 119.719219 \nL 165.98 133.309219 \nL 149.24 133.309219 \nL 149.24 119.719219 \n\" style=\"fill:#e53940;\"/>\n    <path clip-path=\"url(#p9ad2ecf6ec)\" d=\"M 165.98 119.719219 \nL 182.72 119.719219 \nL 182.72 133.309219 \nL 165.98 133.309219 \nL 165.98 119.719219 \n\" style=\"fill:#a11a5b;\"/>\n    <path clip-path=\"url(#p9ad2ecf6ec)\" d=\"M 182.72 119.719219 \nL 199.46 119.719219 \nL 199.46 133.309219 \nL 182.72 133.309219 \nL 182.72 119.719219 \n\" style=\"fill:#faebdd;\"/>\n    <path clip-path=\"url(#p9ad2ecf6ec)\" d=\"M 199.46 119.719219 \nL 216.2 119.719219 \nL 216.2 133.309219 \nL 199.46 133.309219 \nL 199.46 119.719219 \n\" style=\"fill:#e83f3f;\"/>\n    <path clip-path=\"url(#p9ad2ecf6ec)\" d=\"M 216.2 119.719219 \nL 232.94 119.719219 \nL 232.94 133.309219 \nL 216.2 133.309219 \nL 216.2 119.719219 \n\" style=\"fill:#dc2b46;\"/>\n    <path clip-path=\"url(#p9ad2ecf6ec)\" d=\"M 232.94 119.719219 \nL 249.68 119.719219 \nL 249.68 133.309219 \nL 232.94 133.309219 \nL 232.94 119.719219 \n\" style=\"fill:#cd1c4e;\"/>\n    <path clip-path=\"url(#p9ad2ecf6ec)\" d=\"M 249.68 119.719219 \nL 266.42 119.719219 \nL 266.42 133.309219 \nL 249.68 133.309219 \nL 249.68 119.719219 \n\" style=\"fill:#d2204c;\"/>\n    <path clip-path=\"url(#p9ad2ecf6ec)\" d=\"M 266.42 119.719219 \nL 283.16 119.719219 \nL 283.16 133.309219 \nL 266.42 133.309219 \nL 266.42 119.719219 \n\" style=\"fill:#ed4e3e;\"/>\n    <path clip-path=\"url(#p9ad2ecf6ec)\" d=\"M 283.16 119.719219 \nL 299.9 119.719219 \nL 299.9 133.309219 \nL 283.16 133.309219 \nL 283.16 119.719219 \n\" style=\"fill:#921c5b;\"/>\n    <path clip-path=\"url(#p9ad2ecf6ec)\" d=\"M 299.9 119.719219 \nL 316.64 119.719219 \nL 316.64 133.309219 \nL 299.9 133.309219 \nL 299.9 119.719219 \n\" style=\"fill:#781f59;\"/>\n    <path clip-path=\"url(#p9ad2ecf6ec)\" d=\"M 48.8 133.309219 \nL 65.54 133.309219 \nL 65.54 146.899219 \nL 48.8 146.899219 \nL 48.8 133.309219 \n\" style=\"fill:#731f58;\"/>\n    <path clip-path=\"url(#p9ad2ecf6ec)\" d=\"M 65.54 133.309219 \nL 82.28 133.309219 \nL 82.28 146.899219 \nL 65.54 146.899219 \nL 65.54 133.309219 \n\" style=\"fill:#f6b38d;\"/>\n    <path clip-path=\"url(#p9ad2ecf6ec)\" d=\"M 82.28 133.309219 \nL 99.02 133.309219 \nL 99.02 146.899219 \nL 82.28 146.899219 \nL 82.28 133.309219 \n\" style=\"fill:#661f54;\"/>\n    <path clip-path=\"url(#p9ad2ecf6ec)\" d=\"M 99.02 133.309219 \nL 115.76 133.309219 \nL 115.76 146.899219 \nL 99.02 146.899219 \nL 99.02 133.309219 \n\" style=\"fill:#05061b;\"/>\n    <path clip-path=\"url(#p9ad2ecf6ec)\" d=\"M 115.76 133.309219 \nL 132.5 133.309219 \nL 132.5 146.899219 \nL 115.76 146.899219 \nL 115.76 133.309219 \n\" style=\"fill:#c21753;\"/>\n    <path clip-path=\"url(#p9ad2ecf6ec)\" d=\"M 132.5 133.309219 \nL 149.24 133.309219 \nL 149.24 146.899219 \nL 132.5 146.899219 \nL 132.5 133.309219 \n\" style=\"fill:#5e1f52;\"/>\n    <path clip-path=\"url(#p9ad2ecf6ec)\" d=\"M 149.24 133.309219 \nL 165.98 133.309219 \nL 165.98 146.899219 \nL 149.24 146.899219 \nL 149.24 133.309219 \n\" style=\"fill:#f69c73;\"/>\n    <path clip-path=\"url(#p9ad2ecf6ec)\" d=\"M 165.98 133.309219 \nL 182.72 133.309219 \nL 182.72 146.899219 \nL 165.98 146.899219 \nL 165.98 133.309219 \n\" style=\"fill:#d72549;\"/>\n    <path clip-path=\"url(#p9ad2ecf6ec)\" d=\"M 182.72 133.309219 \nL 199.46 133.309219 \nL 199.46 146.899219 \nL 182.72 146.899219 \nL 182.72 133.309219 \n\" style=\"fill:#e83f3f;\"/>\n    <path clip-path=\"url(#p9ad2ecf6ec)\" d=\"M 199.46 133.309219 \nL 216.2 133.309219 \nL 216.2 146.899219 \nL 199.46 146.899219 \nL 199.46 133.309219 \n\" style=\"fill:#faebdd;\"/>\n    <path clip-path=\"url(#p9ad2ecf6ec)\" d=\"M 216.2 133.309219 \nL 232.94 133.309219 \nL 232.94 146.899219 \nL 216.2 146.899219 \nL 216.2 133.309219 \n\" style=\"fill:#f6a077;\"/>\n    <path clip-path=\"url(#p9ad2ecf6ec)\" d=\"M 232.94 133.309219 \nL 249.68 133.309219 \nL 249.68 146.899219 \nL 232.94 146.899219 \nL 232.94 133.309219 \n\" style=\"fill:#f3714d;\"/>\n    <path clip-path=\"url(#p9ad2ecf6ec)\" d=\"M 249.68 133.309219 \nL 266.42 133.309219 \nL 266.42 146.899219 \nL 249.68 146.899219 \nL 249.68 133.309219 \n\" style=\"fill:#f47a54;\"/>\n    <path clip-path=\"url(#p9ad2ecf6ec)\" d=\"M 266.42 133.309219 \nL 283.16 133.309219 \nL 283.16 146.899219 \nL 266.42 146.899219 \nL 266.42 133.309219 \n\" style=\"fill:#f4815a;\"/>\n    <path clip-path=\"url(#p9ad2ecf6ec)\" d=\"M 283.16 133.309219 \nL 299.9 133.309219 \nL 299.9 146.899219 \nL 283.16 146.899219 \nL 283.16 133.309219 \n\" style=\"fill:#8c1d5b;\"/>\n    <path clip-path=\"url(#p9ad2ecf6ec)\" d=\"M 299.9 133.309219 \nL 316.64 133.309219 \nL 316.64 146.899219 \nL 299.9 146.899219 \nL 299.9 133.309219 \n\" style=\"fill:#701f57;\"/>\n    <path clip-path=\"url(#p9ad2ecf6ec)\" d=\"M 48.8 146.899219 \nL 65.54 146.899219 \nL 65.54 160.489219 \nL 48.8 160.489219 \nL 48.8 146.899219 \n\" style=\"fill:#731f58;\"/>\n    <path clip-path=\"url(#p9ad2ecf6ec)\" d=\"M 65.54 146.899219 \nL 82.28 146.899219 \nL 82.28 160.489219 \nL 65.54 160.489219 \nL 65.54 146.899219 \n\" style=\"fill:#f6a077;\"/>\n    <path clip-path=\"url(#p9ad2ecf6ec)\" d=\"M 82.28 146.899219 \nL 99.02 146.899219 \nL 99.02 160.489219 \nL 82.28 160.489219 \nL 82.28 146.899219 \n\" style=\"fill:#7f1e5a;\"/>\n    <path clip-path=\"url(#p9ad2ecf6ec)\" d=\"M 99.02 146.899219 \nL 115.76 146.899219 \nL 115.76 160.489219 \nL 99.02 160.489219 \nL 99.02 146.899219 \n\" style=\"fill:#221331;\"/>\n    <path clip-path=\"url(#p9ad2ecf6ec)\" d=\"M 115.76 146.899219 \nL 132.5 146.899219 \nL 132.5 160.489219 \nL 115.76 160.489219 \nL 115.76 146.899219 \n\" style=\"fill:#b21758;\"/>\n    <path clip-path=\"url(#p9ad2ecf6ec)\" d=\"M 132.5 146.899219 \nL 149.24 146.899219 \nL 149.24 160.489219 \nL 132.5 160.489219 \nL 132.5 146.899219 \n\" style=\"fill:#561e4f;\"/>\n    <path clip-path=\"url(#p9ad2ecf6ec)\" d=\"M 149.24 146.899219 \nL 165.98 146.899219 \nL 165.98 160.489219 \nL 149.24 160.489219 \nL 149.24 146.899219 \n\" style=\"fill:#f6ad85;\"/>\n    <path clip-path=\"url(#p9ad2ecf6ec)\" d=\"M 165.98 146.899219 \nL 182.72 146.899219 \nL 182.72 160.489219 \nL 165.98 160.489219 \nL 165.98 146.899219 \n\" style=\"fill:#ec4a3e;\"/>\n    <path clip-path=\"url(#p9ad2ecf6ec)\" d=\"M 182.72 146.899219 \nL 199.46 146.899219 \nL 199.46 160.489219 \nL 182.72 160.489219 \nL 182.72 146.899219 \n\" style=\"fill:#dc2b46;\"/>\n    <path clip-path=\"url(#p9ad2ecf6ec)\" d=\"M 199.46 146.899219 \nL 216.2 146.899219 \nL 216.2 160.489219 \nL 199.46 160.489219 \nL 199.46 146.899219 \n\" style=\"fill:#f6a077;\"/>\n    <path clip-path=\"url(#p9ad2ecf6ec)\" d=\"M 216.2 146.899219 \nL 232.94 146.899219 \nL 232.94 160.489219 \nL 216.2 160.489219 \nL 216.2 146.899219 \n\" style=\"fill:#faebdd;\"/>\n    <path clip-path=\"url(#p9ad2ecf6ec)\" d=\"M 232.94 146.899219 \nL 249.68 146.899219 \nL 249.68 160.489219 \nL 232.94 160.489219 \nL 232.94 146.899219 \n\" style=\"fill:#f59067;\"/>\n    <path clip-path=\"url(#p9ad2ecf6ec)\" d=\"M 249.68 146.899219 \nL 266.42 146.899219 \nL 266.42 160.489219 \nL 249.68 160.489219 \nL 249.68 146.899219 \n\" style=\"fill:#f59970;\"/>\n    <path clip-path=\"url(#p9ad2ecf6ec)\" d=\"M 266.42 146.899219 \nL 283.16 146.899219 \nL 283.16 160.489219 \nL 266.42 160.489219 \nL 266.42 146.899219 \n\" style=\"fill:#f58a61;\"/>\n    <path clip-path=\"url(#p9ad2ecf6ec)\" d=\"M 283.16 146.899219 \nL 299.9 146.899219 \nL 299.9 160.489219 \nL 283.16 160.489219 \nL 283.16 146.899219 \n\" style=\"fill:#821e5a;\"/>\n    <path clip-path=\"url(#p9ad2ecf6ec)\" d=\"M 299.9 146.899219 \nL 316.64 146.899219 \nL 316.64 160.489219 \nL 299.9 160.489219 \nL 299.9 146.899219 \n\" style=\"fill:#6d1f56;\"/>\n    <path clip-path=\"url(#p9ad2ecf6ec)\" d=\"M 48.8 160.489219 \nL 65.54 160.489219 \nL 65.54 174.079219 \nL 48.8 174.079219 \nL 48.8 160.489219 \n\" style=\"fill:#731f58;\"/>\n    <path clip-path=\"url(#p9ad2ecf6ec)\" d=\"M 65.54 160.489219 \nL 82.28 160.489219 \nL 82.28 174.079219 \nL 65.54 174.079219 \nL 65.54 160.489219 \n\" style=\"fill:#f26d4b;\"/>\n    <path clip-path=\"url(#p9ad2ecf6ec)\" d=\"M 82.28 160.489219 \nL 99.02 160.489219 \nL 99.02 174.079219 \nL 82.28 174.079219 \nL 82.28 160.489219 \n\" style=\"fill:#9a1b5b;\"/>\n    <path clip-path=\"url(#p9ad2ecf6ec)\" d=\"M 99.02 160.489219 \nL 115.76 160.489219 \nL 115.76 174.079219 \nL 99.02 174.079219 \nL 99.02 160.489219 \n\" style=\"fill:#5e1f52;\"/>\n    <path clip-path=\"url(#p9ad2ecf6ec)\" d=\"M 115.76 160.489219 \nL 132.5 160.489219 \nL 132.5 174.079219 \nL 115.76 174.079219 \nL 115.76 160.489219 \n\" style=\"fill:#871e5b;\"/>\n    <path clip-path=\"url(#p9ad2ecf6ec)\" d=\"M 132.5 160.489219 \nL 149.24 160.489219 \nL 149.24 174.079219 \nL 132.5 174.079219 \nL 132.5 160.489219 \n\" style=\"fill:#34193d;\"/>\n    <path clip-path=\"url(#p9ad2ecf6ec)\" d=\"M 149.24 160.489219 \nL 165.98 160.489219 \nL 165.98 174.079219 \nL 149.24 174.079219 \nL 149.24 160.489219 \n\" style=\"fill:#f6a37a;\"/>\n    <path clip-path=\"url(#p9ad2ecf6ec)\" d=\"M 165.98 160.489219 \nL 182.72 160.489219 \nL 182.72 174.079219 \nL 165.98 174.079219 \nL 165.98 160.489219 \n\" style=\"fill:#f58f66;\"/>\n    <path clip-path=\"url(#p9ad2ecf6ec)\" d=\"M 182.72 160.489219 \nL 199.46 160.489219 \nL 199.46 174.079219 \nL 182.72 174.079219 \nL 182.72 160.489219 \n\" style=\"fill:#cd1c4e;\"/>\n    <path clip-path=\"url(#p9ad2ecf6ec)\" d=\"M 199.46 160.489219 \nL 216.2 160.489219 \nL 216.2 174.079219 \nL 199.46 174.079219 \nL 199.46 160.489219 \n\" style=\"fill:#f3714d;\"/>\n    <path clip-path=\"url(#p9ad2ecf6ec)\" d=\"M 216.2 160.489219 \nL 232.94 160.489219 \nL 232.94 174.079219 \nL 216.2 174.079219 \nL 216.2 160.489219 \n\" style=\"fill:#f59067;\"/>\n    <path clip-path=\"url(#p9ad2ecf6ec)\" d=\"M 232.94 160.489219 \nL 249.68 160.489219 \nL 249.68 174.079219 \nL 232.94 174.079219 \nL 232.94 160.489219 \n\" style=\"fill:#faebdd;\"/>\n    <path clip-path=\"url(#p9ad2ecf6ec)\" d=\"M 249.68 160.489219 \nL 266.42 160.489219 \nL 266.42 174.079219 \nL 249.68 174.079219 \nL 249.68 160.489219 \n\" style=\"fill:#f6bc99;\"/>\n    <path clip-path=\"url(#p9ad2ecf6ec)\" d=\"M 266.42 160.489219 \nL 283.16 160.489219 \nL 283.16 174.079219 \nL 266.42 174.079219 \nL 266.42 160.489219 \n\" style=\"fill:#f26b49;\"/>\n    <path clip-path=\"url(#p9ad2ecf6ec)\" d=\"M 283.16 160.489219 \nL 299.9 160.489219 \nL 299.9 174.079219 \nL 283.16 174.079219 \nL 283.16 160.489219 \n\" style=\"fill:#761f58;\"/>\n    <path clip-path=\"url(#p9ad2ecf6ec)\" d=\"M 299.9 160.489219 \nL 316.64 160.489219 \nL 316.64 174.079219 \nL 299.9 174.079219 \nL 299.9 160.489219 \n\" style=\"fill:#821e5a;\"/>\n    <path clip-path=\"url(#p9ad2ecf6ec)\" d=\"M 48.8 174.079219 \nL 65.54 174.079219 \nL 65.54 187.669219 \nL 48.8 187.669219 \nL 48.8 174.079219 \n\" style=\"fill:#731f58;\"/>\n    <path clip-path=\"url(#p9ad2ecf6ec)\" d=\"M 65.54 174.079219 \nL 82.28 174.079219 \nL 82.28 187.669219 \nL 65.54 187.669219 \nL 65.54 174.079219 \n\" style=\"fill:#f37852;\"/>\n    <path clip-path=\"url(#p9ad2ecf6ec)\" d=\"M 82.28 174.079219 \nL 99.02 174.079219 \nL 99.02 187.669219 \nL 82.28 187.669219 \nL 82.28 174.079219 \n\" style=\"fill:#901d5b;\"/>\n    <path clip-path=\"url(#p9ad2ecf6ec)\" d=\"M 99.02 174.079219 \nL 115.76 174.079219 \nL 115.76 187.669219 \nL 99.02 187.669219 \nL 99.02 174.079219 \n\" style=\"fill:#541e4e;\"/>\n    <path clip-path=\"url(#p9ad2ecf6ec)\" d=\"M 115.76 174.079219 \nL 132.5 174.079219 \nL 132.5 187.669219 \nL 115.76 187.669219 \nL 115.76 174.079219 \n\" style=\"fill:#891e5b;\"/>\n    <path clip-path=\"url(#p9ad2ecf6ec)\" d=\"M 132.5 174.079219 \nL 149.24 174.079219 \nL 149.24 187.669219 \nL 132.5 187.669219 \nL 132.5 174.079219 \n\" style=\"fill:#3c1a42;\"/>\n    <path clip-path=\"url(#p9ad2ecf6ec)\" d=\"M 149.24 174.079219 \nL 165.98 174.079219 \nL 165.98 187.669219 \nL 149.24 187.669219 \nL 149.24 174.079219 \n\" style=\"fill:#f6a981;\"/>\n    <path clip-path=\"url(#p9ad2ecf6ec)\" d=\"M 165.98 174.079219 \nL 182.72 174.079219 \nL 182.72 187.669219 \nL 165.98 187.669219 \nL 165.98 174.079219 \n\" style=\"fill:#f58b63;\"/>\n    <path clip-path=\"url(#p9ad2ecf6ec)\" d=\"M 182.72 174.079219 \nL 199.46 174.079219 \nL 199.46 187.669219 \nL 182.72 187.669219 \nL 182.72 174.079219 \n\" style=\"fill:#d2204c;\"/>\n    <path clip-path=\"url(#p9ad2ecf6ec)\" d=\"M 199.46 174.079219 \nL 216.2 174.079219 \nL 216.2 187.669219 \nL 199.46 187.669219 \nL 199.46 174.079219 \n\" style=\"fill:#f47a54;\"/>\n    <path clip-path=\"url(#p9ad2ecf6ec)\" d=\"M 216.2 174.079219 \nL 232.94 174.079219 \nL 232.94 187.669219 \nL 216.2 187.669219 \nL 216.2 174.079219 \n\" style=\"fill:#f59970;\"/>\n    <path clip-path=\"url(#p9ad2ecf6ec)\" d=\"M 232.94 174.079219 \nL 249.68 174.079219 \nL 249.68 187.669219 \nL 232.94 187.669219 \nL 232.94 174.079219 \n\" style=\"fill:#f6bc99;\"/>\n    <path clip-path=\"url(#p9ad2ecf6ec)\" d=\"M 249.68 174.079219 \nL 266.42 174.079219 \nL 266.42 187.669219 \nL 249.68 187.669219 \nL 249.68 174.079219 \n\" style=\"fill:#faebdd;\"/>\n    <path clip-path=\"url(#p9ad2ecf6ec)\" d=\"M 266.42 174.079219 \nL 283.16 174.079219 \nL 283.16 187.669219 \nL 266.42 187.669219 \nL 266.42 174.079219 \n\" style=\"fill:#f26d4b;\"/>\n    <path clip-path=\"url(#p9ad2ecf6ec)\" d=\"M 283.16 174.079219 \nL 299.9 174.079219 \nL 299.9 187.669219 \nL 283.16 187.669219 \nL 283.16 174.079219 \n\" style=\"fill:#7a1f59;\"/>\n    <path clip-path=\"url(#p9ad2ecf6ec)\" d=\"M 299.9 174.079219 \nL 316.64 174.079219 \nL 316.64 187.669219 \nL 299.9 187.669219 \nL 299.9 174.079219 \n\" style=\"fill:#821e5a;\"/>\n    <path clip-path=\"url(#p9ad2ecf6ec)\" d=\"M 48.8 187.669219 \nL 65.54 187.669219 \nL 65.54 201.259219 \nL 48.8 201.259219 \nL 48.8 187.669219 \n\" style=\"fill:#731f58;\"/>\n    <path clip-path=\"url(#p9ad2ecf6ec)\" d=\"M 65.54 187.669219 \nL 82.28 187.669219 \nL 82.28 201.259219 \nL 65.54 201.259219 \nL 65.54 187.669219 \n\" style=\"fill:#f26f4c;\"/>\n    <path clip-path=\"url(#p9ad2ecf6ec)\" d=\"M 82.28 187.669219 \nL 99.02 187.669219 \nL 99.02 201.259219 \nL 82.28 201.259219 \nL 82.28 187.669219 \n\" style=\"fill:#781f59;\"/>\n    <path clip-path=\"url(#p9ad2ecf6ec)\" d=\"M 99.02 187.669219 \nL 115.76 187.669219 \nL 115.76 201.259219 \nL 99.02 201.259219 \nL 99.02 187.669219 \n\" style=\"fill:#08081e;\"/>\n    <path clip-path=\"url(#p9ad2ecf6ec)\" d=\"M 115.76 187.669219 \nL 132.5 187.669219 \nL 132.5 201.259219 \nL 115.76 201.259219 \nL 115.76 187.669219 \n\" style=\"fill:#a3195b;\"/>\n    <path clip-path=\"url(#p9ad2ecf6ec)\" d=\"M 132.5 187.669219 \nL 149.24 187.669219 \nL 149.24 201.259219 \nL 132.5 201.259219 \nL 132.5 187.669219 \n\" style=\"fill:#4b1d4a;\"/>\n    <path clip-path=\"url(#p9ad2ecf6ec)\" d=\"M 149.24 187.669219 \nL 165.98 187.669219 \nL 165.98 201.259219 \nL 149.24 201.259219 \nL 149.24 187.669219 \n\" style=\"fill:#f6b089;\"/>\n    <path clip-path=\"url(#p9ad2ecf6ec)\" d=\"M 165.98 187.669219 \nL 182.72 187.669219 \nL 182.72 201.259219 \nL 165.98 201.259219 \nL 165.98 187.669219 \n\" style=\"fill:#d2204c;\"/>\n    <path clip-path=\"url(#p9ad2ecf6ec)\" d=\"M 182.72 187.669219 \nL 199.46 187.669219 \nL 199.46 201.259219 \nL 182.72 201.259219 \nL 182.72 187.669219 \n\" style=\"fill:#ed4e3e;\"/>\n    <path clip-path=\"url(#p9ad2ecf6ec)\" d=\"M 199.46 187.669219 \nL 216.2 187.669219 \nL 216.2 201.259219 \nL 199.46 201.259219 \nL 199.46 187.669219 \n\" style=\"fill:#f4815a;\"/>\n    <path clip-path=\"url(#p9ad2ecf6ec)\" d=\"M 216.2 187.669219 \nL 232.94 187.669219 \nL 232.94 201.259219 \nL 216.2 201.259219 \nL 216.2 187.669219 \n\" style=\"fill:#f58a61;\"/>\n    <path clip-path=\"url(#p9ad2ecf6ec)\" d=\"M 232.94 187.669219 \nL 249.68 187.669219 \nL 249.68 201.259219 \nL 232.94 201.259219 \nL 232.94 187.669219 \n\" style=\"fill:#f26b49;\"/>\n    <path clip-path=\"url(#p9ad2ecf6ec)\" d=\"M 249.68 187.669219 \nL 266.42 187.669219 \nL 266.42 201.259219 \nL 249.68 201.259219 \nL 249.68 187.669219 \n\" style=\"fill:#f26d4b;\"/>\n    <path clip-path=\"url(#p9ad2ecf6ec)\" d=\"M 266.42 187.669219 \nL 283.16 187.669219 \nL 283.16 201.259219 \nL 266.42 201.259219 \nL 266.42 187.669219 \n\" style=\"fill:#faebdd;\"/>\n    <path clip-path=\"url(#p9ad2ecf6ec)\" d=\"M 283.16 187.669219 \nL 299.9 187.669219 \nL 299.9 201.259219 \nL 283.16 201.259219 \nL 283.16 187.669219 \n\" style=\"fill:#931c5b;\"/>\n    <path clip-path=\"url(#p9ad2ecf6ec)\" d=\"M 299.9 187.669219 \nL 316.64 187.669219 \nL 316.64 201.259219 \nL 299.9 201.259219 \nL 299.9 187.669219 \n\" style=\"fill:#711f57;\"/>\n    <path clip-path=\"url(#p9ad2ecf6ec)\" d=\"M 48.8 201.259219 \nL 65.54 201.259219 \nL 65.54 214.849219 \nL 48.8 214.849219 \nL 48.8 201.259219 \n\" style=\"fill:#751f58;\"/>\n    <path clip-path=\"url(#p9ad2ecf6ec)\" d=\"M 65.54 201.259219 \nL 82.28 201.259219 \nL 82.28 214.849219 \nL 65.54 214.849219 \nL 65.54 201.259219 \n\" style=\"fill:#871e5b;\"/>\n    <path clip-path=\"url(#p9ad2ecf6ec)\" d=\"M 82.28 201.259219 \nL 99.02 201.259219 \nL 99.02 214.849219 \nL 82.28 214.849219 \nL 82.28 201.259219 \n\" style=\"fill:#7b1f59;\"/>\n    <path clip-path=\"url(#p9ad2ecf6ec)\" d=\"M 99.02 201.259219 \nL 115.76 201.259219 \nL 115.76 214.849219 \nL 99.02 214.849219 \nL 99.02 201.259219 \n\" style=\"fill:#601f52;\"/>\n    <path clip-path=\"url(#p9ad2ecf6ec)\" d=\"M 115.76 201.259219 \nL 132.5 201.259219 \nL 132.5 214.849219 \nL 115.76 214.849219 \nL 115.76 201.259219 \n\" style=\"fill:#841e5a;\"/>\n    <path clip-path=\"url(#p9ad2ecf6ec)\" d=\"M 132.5 201.259219 \nL 149.24 201.259219 \nL 149.24 214.849219 \nL 132.5 214.849219 \nL 132.5 201.259219 \n\" style=\"fill:#7f1e5a;\"/>\n    <path clip-path=\"url(#p9ad2ecf6ec)\" d=\"M 149.24 201.259219 \nL 165.98 201.259219 \nL 165.98 214.849219 \nL 149.24 214.849219 \nL 149.24 201.259219 \n\" style=\"fill:#871e5b;\"/>\n    <path clip-path=\"url(#p9ad2ecf6ec)\" d=\"M 165.98 201.259219 \nL 182.72 201.259219 \nL 182.72 214.849219 \nL 165.98 214.849219 \nL 165.98 201.259219 \n\" style=\"fill:#681f55;\"/>\n    <path clip-path=\"url(#p9ad2ecf6ec)\" d=\"M 182.72 201.259219 \nL 199.46 201.259219 \nL 199.46 214.849219 \nL 182.72 214.849219 \nL 182.72 201.259219 \n\" style=\"fill:#921c5b;\"/>\n    <path clip-path=\"url(#p9ad2ecf6ec)\" d=\"M 199.46 201.259219 \nL 216.2 201.259219 \nL 216.2 214.849219 \nL 199.46 214.849219 \nL 199.46 201.259219 \n\" style=\"fill:#8c1d5b;\"/>\n    <path clip-path=\"url(#p9ad2ecf6ec)\" d=\"M 216.2 201.259219 \nL 232.94 201.259219 \nL 232.94 214.849219 \nL 216.2 214.849219 \nL 216.2 201.259219 \n\" style=\"fill:#821e5a;\"/>\n    <path clip-path=\"url(#p9ad2ecf6ec)\" d=\"M 232.94 201.259219 \nL 249.68 201.259219 \nL 249.68 214.849219 \nL 232.94 214.849219 \nL 232.94 201.259219 \n\" style=\"fill:#761f58;\"/>\n    <path clip-path=\"url(#p9ad2ecf6ec)\" d=\"M 249.68 201.259219 \nL 266.42 201.259219 \nL 266.42 214.849219 \nL 249.68 214.849219 \nL 249.68 201.259219 \n\" style=\"fill:#7a1f59;\"/>\n    <path clip-path=\"url(#p9ad2ecf6ec)\" d=\"M 266.42 201.259219 \nL 283.16 201.259219 \nL 283.16 214.849219 \nL 266.42 214.849219 \nL 266.42 201.259219 \n\" style=\"fill:#931c5b;\"/>\n    <path clip-path=\"url(#p9ad2ecf6ec)\" d=\"M 283.16 201.259219 \nL 299.9 201.259219 \nL 299.9 214.849219 \nL 283.16 214.849219 \nL 283.16 201.259219 \n\" style=\"fill:#faebdd;\"/>\n    <path clip-path=\"url(#p9ad2ecf6ec)\" d=\"M 299.9 201.259219 \nL 316.64 201.259219 \nL 316.64 214.849219 \nL 299.9 214.849219 \nL 299.9 201.259219 \n\" style=\"fill:#711f57;\"/>\n    <path clip-path=\"url(#p9ad2ecf6ec)\" d=\"M 48.8 214.849219 \nL 65.54 214.849219 \nL 65.54 228.439219 \nL 48.8 228.439219 \nL 48.8 214.849219 \n\" style=\"fill:#731f58;\"/>\n    <path clip-path=\"url(#p9ad2ecf6ec)\" d=\"M 65.54 214.849219 \nL 82.28 214.849219 \nL 82.28 228.439219 \nL 65.54 228.439219 \nL 65.54 214.849219 \n\" style=\"fill:#691f55;\"/>\n    <path clip-path=\"url(#p9ad2ecf6ec)\" d=\"M 82.28 214.849219 \nL 99.02 214.849219 \nL 99.02 228.439219 \nL 82.28 228.439219 \nL 82.28 214.849219 \n\" style=\"fill:#871e5b;\"/>\n    <path clip-path=\"url(#p9ad2ecf6ec)\" d=\"M 99.02 214.849219 \nL 115.76 214.849219 \nL 115.76 228.439219 \nL 99.02 228.439219 \nL 99.02 214.849219 \n\" style=\"fill:#861e5b;\"/>\n    <path clip-path=\"url(#p9ad2ecf6ec)\" d=\"M 115.76 214.849219 \nL 132.5 214.849219 \nL 132.5 228.439219 \nL 115.76 228.439219 \nL 115.76 214.849219 \n\" style=\"fill:#751f58;\"/>\n    <path clip-path=\"url(#p9ad2ecf6ec)\" d=\"M 132.5 214.849219 \nL 149.24 214.849219 \nL 149.24 228.439219 \nL 132.5 228.439219 \nL 132.5 214.849219 \n\" style=\"fill:#711f57;\"/>\n    <path clip-path=\"url(#p9ad2ecf6ec)\" d=\"M 149.24 214.849219 \nL 165.98 214.849219 \nL 165.98 228.439219 \nL 149.24 228.439219 \nL 149.24 214.849219 \n\" style=\"fill:#7b1f59;\"/>\n    <path clip-path=\"url(#p9ad2ecf6ec)\" d=\"M 165.98 214.849219 \nL 182.72 214.849219 \nL 182.72 228.439219 \nL 165.98 228.439219 \nL 165.98 214.849219 \n\" style=\"fill:#871e5b;\"/>\n    <path clip-path=\"url(#p9ad2ecf6ec)\" d=\"M 182.72 214.849219 \nL 199.46 214.849219 \nL 199.46 228.439219 \nL 182.72 228.439219 \nL 182.72 214.849219 \n\" style=\"fill:#781f59;\"/>\n    <path clip-path=\"url(#p9ad2ecf6ec)\" d=\"M 199.46 214.849219 \nL 216.2 214.849219 \nL 216.2 228.439219 \nL 199.46 228.439219 \nL 199.46 214.849219 \n\" style=\"fill:#701f57;\"/>\n    <path clip-path=\"url(#p9ad2ecf6ec)\" d=\"M 216.2 214.849219 \nL 232.94 214.849219 \nL 232.94 228.439219 \nL 216.2 228.439219 \nL 216.2 214.849219 \n\" style=\"fill:#6d1f56;\"/>\n    <path clip-path=\"url(#p9ad2ecf6ec)\" d=\"M 232.94 214.849219 \nL 249.68 214.849219 \nL 249.68 228.439219 \nL 232.94 228.439219 \nL 232.94 214.849219 \n\" style=\"fill:#821e5a;\"/>\n    <path clip-path=\"url(#p9ad2ecf6ec)\" d=\"M 249.68 214.849219 \nL 266.42 214.849219 \nL 266.42 228.439219 \nL 249.68 228.439219 \nL 249.68 214.849219 \n\" style=\"fill:#821e5a;\"/>\n    <path clip-path=\"url(#p9ad2ecf6ec)\" d=\"M 266.42 214.849219 \nL 283.16 214.849219 \nL 283.16 228.439219 \nL 266.42 228.439219 \nL 266.42 214.849219 \n\" style=\"fill:#711f57;\"/>\n    <path clip-path=\"url(#p9ad2ecf6ec)\" d=\"M 283.16 214.849219 \nL 299.9 214.849219 \nL 299.9 228.439219 \nL 283.16 228.439219 \nL 283.16 214.849219 \n\" style=\"fill:#711f57;\"/>\n    <path clip-path=\"url(#p9ad2ecf6ec)\" d=\"M 299.9 214.849219 \nL 316.64 214.849219 \nL 316.64 228.439219 \nL 299.9 228.439219 \nL 299.9 214.849219 \n\" style=\"fill:#faebdd;\"/>\n   </g>\n   <g id=\"matplotlib.axis_1\">\n    <g id=\"xtick_1\">\n     <g id=\"line2d_1\">\n      <defs>\n       <path d=\"M 0 0 \nL 0 3.5 \n\" id=\"m9ec374eaef\" style=\"stroke:#000000;stroke-width:0.8;\"/>\n      </defs>\n      <g>\n       <use style=\"stroke:#000000;stroke-width:0.8;\" x=\"57.17\" xlink:href=\"#m9ec374eaef\" y=\"228.439219\"/>\n      </g>\n     </g>\n     <g id=\"text_1\">\n      <!-- id -->\n      <g transform=\"translate(59.929375 244.565781)rotate(-90)scale(0.1 -0.1)\">\n       <defs>\n        <path d=\"M 9.421875 54.6875 \nL 18.40625 54.6875 \nL 18.40625 0 \nL 9.421875 0 \nz\nM 9.421875 75.984375 \nL 18.40625 75.984375 \nL 18.40625 64.59375 \nL 9.421875 64.59375 \nz\n\" id=\"DejaVuSans-105\"/>\n        <path d=\"M 45.40625 46.390625 \nL 45.40625 75.984375 \nL 54.390625 75.984375 \nL 54.390625 0 \nL 45.40625 0 \nL 45.40625 8.203125 \nQ 42.578125 3.328125 38.25 0.953125 \nQ 33.9375 -1.421875 27.875 -1.421875 \nQ 17.96875 -1.421875 11.734375 6.484375 \nQ 5.515625 14.40625 5.515625 27.296875 \nQ 5.515625 40.1875 11.734375 48.09375 \nQ 17.96875 56 27.875 56 \nQ 33.9375 56 38.25 53.625 \nQ 42.578125 51.265625 45.40625 46.390625 \nz\nM 14.796875 27.296875 \nQ 14.796875 17.390625 18.875 11.75 \nQ 22.953125 6.109375 30.078125 6.109375 \nQ 37.203125 6.109375 41.296875 11.75 \nQ 45.40625 17.390625 45.40625 27.296875 \nQ 45.40625 37.203125 41.296875 42.84375 \nQ 37.203125 48.484375 30.078125 48.484375 \nQ 22.953125 48.484375 18.875 42.84375 \nQ 14.796875 37.203125 14.796875 27.296875 \nz\n\" id=\"DejaVuSans-100\"/>\n       </defs>\n       <use xlink:href=\"#DejaVuSans-105\"/>\n       <use x=\"27.783203\" xlink:href=\"#DejaVuSans-100\"/>\n      </g>\n     </g>\n    </g>\n    <g id=\"xtick_2\">\n     <g id=\"line2d_2\">\n      <g>\n       <use style=\"stroke:#000000;stroke-width:0.8;\" x=\"73.91\" xlink:href=\"#m9ec374eaef\" y=\"228.439219\"/>\n      </g>\n     </g>\n     <g id=\"text_2\">\n      <!-- cont1 -->\n      <g transform=\"translate(76.669375 263.676719)rotate(-90)scale(0.1 -0.1)\">\n       <defs>\n        <path d=\"M 48.78125 52.59375 \nL 48.78125 44.1875 \nQ 44.96875 46.296875 41.140625 47.34375 \nQ 37.3125 48.390625 33.40625 48.390625 \nQ 24.65625 48.390625 19.8125 42.84375 \nQ 14.984375 37.3125 14.984375 27.296875 \nQ 14.984375 17.28125 19.8125 11.734375 \nQ 24.65625 6.203125 33.40625 6.203125 \nQ 37.3125 6.203125 41.140625 7.25 \nQ 44.96875 8.296875 48.78125 10.40625 \nL 48.78125 2.09375 \nQ 45.015625 0.34375 40.984375 -0.53125 \nQ 36.96875 -1.421875 32.421875 -1.421875 \nQ 20.0625 -1.421875 12.78125 6.34375 \nQ 5.515625 14.109375 5.515625 27.296875 \nQ 5.515625 40.671875 12.859375 48.328125 \nQ 20.21875 56 33.015625 56 \nQ 37.15625 56 41.109375 55.140625 \nQ 45.0625 54.296875 48.78125 52.59375 \nz\n\" id=\"DejaVuSans-99\"/>\n        <path d=\"M 30.609375 48.390625 \nQ 23.390625 48.390625 19.1875 42.75 \nQ 14.984375 37.109375 14.984375 27.296875 \nQ 14.984375 17.484375 19.15625 11.84375 \nQ 23.34375 6.203125 30.609375 6.203125 \nQ 37.796875 6.203125 41.984375 11.859375 \nQ 46.1875 17.53125 46.1875 27.296875 \nQ 46.1875 37.015625 41.984375 42.703125 \nQ 37.796875 48.390625 30.609375 48.390625 \nz\nM 30.609375 56 \nQ 42.328125 56 49.015625 48.375 \nQ 55.71875 40.765625 55.71875 27.296875 \nQ 55.71875 13.875 49.015625 6.21875 \nQ 42.328125 -1.421875 30.609375 -1.421875 \nQ 18.84375 -1.421875 12.171875 6.21875 \nQ 5.515625 13.875 5.515625 27.296875 \nQ 5.515625 40.765625 12.171875 48.375 \nQ 18.84375 56 30.609375 56 \nz\n\" id=\"DejaVuSans-111\"/>\n        <path d=\"M 54.890625 33.015625 \nL 54.890625 0 \nL 45.90625 0 \nL 45.90625 32.71875 \nQ 45.90625 40.484375 42.875 44.328125 \nQ 39.84375 48.1875 33.796875 48.1875 \nQ 26.515625 48.1875 22.3125 43.546875 \nQ 18.109375 38.921875 18.109375 30.90625 \nL 18.109375 0 \nL 9.078125 0 \nL 9.078125 54.6875 \nL 18.109375 54.6875 \nL 18.109375 46.1875 \nQ 21.34375 51.125 25.703125 53.5625 \nQ 30.078125 56 35.796875 56 \nQ 45.21875 56 50.046875 50.171875 \nQ 54.890625 44.34375 54.890625 33.015625 \nz\n\" id=\"DejaVuSans-110\"/>\n        <path d=\"M 18.3125 70.21875 \nL 18.3125 54.6875 \nL 36.8125 54.6875 \nL 36.8125 47.703125 \nL 18.3125 47.703125 \nL 18.3125 18.015625 \nQ 18.3125 11.328125 20.140625 9.421875 \nQ 21.96875 7.515625 27.59375 7.515625 \nL 36.8125 7.515625 \nL 36.8125 0 \nL 27.59375 0 \nQ 17.1875 0 13.234375 3.875 \nQ 9.28125 7.765625 9.28125 18.015625 \nL 9.28125 47.703125 \nL 2.6875 47.703125 \nL 2.6875 54.6875 \nL 9.28125 54.6875 \nL 9.28125 70.21875 \nz\n\" id=\"DejaVuSans-116\"/>\n        <path d=\"M 12.40625 8.296875 \nL 28.515625 8.296875 \nL 28.515625 63.921875 \nL 10.984375 60.40625 \nL 10.984375 69.390625 \nL 28.421875 72.90625 \nL 38.28125 72.90625 \nL 38.28125 8.296875 \nL 54.390625 8.296875 \nL 54.390625 0 \nL 12.40625 0 \nz\n\" id=\"DejaVuSans-49\"/>\n       </defs>\n       <use xlink:href=\"#DejaVuSans-99\"/>\n       <use x=\"54.980469\" xlink:href=\"#DejaVuSans-111\"/>\n       <use x=\"116.162109\" xlink:href=\"#DejaVuSans-110\"/>\n       <use x=\"179.541016\" xlink:href=\"#DejaVuSans-116\"/>\n       <use x=\"218.75\" xlink:href=\"#DejaVuSans-49\"/>\n      </g>\n     </g>\n    </g>\n    <g id=\"xtick_3\">\n     <g id=\"line2d_3\">\n      <g>\n       <use style=\"stroke:#000000;stroke-width:0.8;\" x=\"90.65\" xlink:href=\"#m9ec374eaef\" y=\"228.439219\"/>\n      </g>\n     </g>\n     <g id=\"text_3\">\n      <!-- cont2 -->\n      <g transform=\"translate(93.409375 263.676719)rotate(-90)scale(0.1 -0.1)\">\n       <defs>\n        <path d=\"M 19.1875 8.296875 \nL 53.609375 8.296875 \nL 53.609375 0 \nL 7.328125 0 \nL 7.328125 8.296875 \nQ 12.9375 14.109375 22.625 23.890625 \nQ 32.328125 33.6875 34.8125 36.53125 \nQ 39.546875 41.84375 41.421875 45.53125 \nQ 43.3125 49.21875 43.3125 52.78125 \nQ 43.3125 58.59375 39.234375 62.25 \nQ 35.15625 65.921875 28.609375 65.921875 \nQ 23.96875 65.921875 18.8125 64.3125 \nQ 13.671875 62.703125 7.8125 59.421875 \nL 7.8125 69.390625 \nQ 13.765625 71.78125 18.9375 73 \nQ 24.125 74.21875 28.421875 74.21875 \nQ 39.75 74.21875 46.484375 68.546875 \nQ 53.21875 62.890625 53.21875 53.421875 \nQ 53.21875 48.921875 51.53125 44.890625 \nQ 49.859375 40.875 45.40625 35.40625 \nQ 44.1875 33.984375 37.640625 27.21875 \nQ 31.109375 20.453125 19.1875 8.296875 \nz\n\" id=\"DejaVuSans-50\"/>\n       </defs>\n       <use xlink:href=\"#DejaVuSans-99\"/>\n       <use x=\"54.980469\" xlink:href=\"#DejaVuSans-111\"/>\n       <use x=\"116.162109\" xlink:href=\"#DejaVuSans-110\"/>\n       <use x=\"179.541016\" xlink:href=\"#DejaVuSans-116\"/>\n       <use x=\"218.75\" xlink:href=\"#DejaVuSans-50\"/>\n      </g>\n     </g>\n    </g>\n    <g id=\"xtick_4\">\n     <g id=\"line2d_4\">\n      <g>\n       <use style=\"stroke:#000000;stroke-width:0.8;\" x=\"107.39\" xlink:href=\"#m9ec374eaef\" y=\"228.439219\"/>\n      </g>\n     </g>\n     <g id=\"text_4\">\n      <!-- cont3 -->\n      <g transform=\"translate(110.149375 263.676719)rotate(-90)scale(0.1 -0.1)\">\n       <defs>\n        <path d=\"M 40.578125 39.3125 \nQ 47.65625 37.796875 51.625 33 \nQ 55.609375 28.21875 55.609375 21.1875 \nQ 55.609375 10.40625 48.1875 4.484375 \nQ 40.765625 -1.421875 27.09375 -1.421875 \nQ 22.515625 -1.421875 17.65625 -0.515625 \nQ 12.796875 0.390625 7.625 2.203125 \nL 7.625 11.71875 \nQ 11.71875 9.328125 16.59375 8.109375 \nQ 21.484375 6.890625 26.8125 6.890625 \nQ 36.078125 6.890625 40.9375 10.546875 \nQ 45.796875 14.203125 45.796875 21.1875 \nQ 45.796875 27.640625 41.28125 31.265625 \nQ 36.765625 34.90625 28.71875 34.90625 \nL 20.21875 34.90625 \nL 20.21875 43.015625 \nL 29.109375 43.015625 \nQ 36.375 43.015625 40.234375 45.921875 \nQ 44.09375 48.828125 44.09375 54.296875 \nQ 44.09375 59.90625 40.109375 62.90625 \nQ 36.140625 65.921875 28.71875 65.921875 \nQ 24.65625 65.921875 20.015625 65.03125 \nQ 15.375 64.15625 9.8125 62.3125 \nL 9.8125 71.09375 \nQ 15.4375 72.65625 20.34375 73.4375 \nQ 25.25 74.21875 29.59375 74.21875 \nQ 40.828125 74.21875 47.359375 69.109375 \nQ 53.90625 64.015625 53.90625 55.328125 \nQ 53.90625 49.265625 50.4375 45.09375 \nQ 46.96875 40.921875 40.578125 39.3125 \nz\n\" id=\"DejaVuSans-51\"/>\n       </defs>\n       <use xlink:href=\"#DejaVuSans-99\"/>\n       <use x=\"54.980469\" xlink:href=\"#DejaVuSans-111\"/>\n       <use x=\"116.162109\" xlink:href=\"#DejaVuSans-110\"/>\n       <use x=\"179.541016\" xlink:href=\"#DejaVuSans-116\"/>\n       <use x=\"218.75\" xlink:href=\"#DejaVuSans-51\"/>\n      </g>\n     </g>\n    </g>\n    <g id=\"xtick_5\">\n     <g id=\"line2d_5\">\n      <g>\n       <use style=\"stroke:#000000;stroke-width:0.8;\" x=\"124.13\" xlink:href=\"#m9ec374eaef\" y=\"228.439219\"/>\n      </g>\n     </g>\n     <g id=\"text_5\">\n      <!-- cont4 -->\n      <g transform=\"translate(126.889375 263.676719)rotate(-90)scale(0.1 -0.1)\">\n       <defs>\n        <path d=\"M 37.796875 64.3125 \nL 12.890625 25.390625 \nL 37.796875 25.390625 \nz\nM 35.203125 72.90625 \nL 47.609375 72.90625 \nL 47.609375 25.390625 \nL 58.015625 25.390625 \nL 58.015625 17.1875 \nL 47.609375 17.1875 \nL 47.609375 0 \nL 37.796875 0 \nL 37.796875 17.1875 \nL 4.890625 17.1875 \nL 4.890625 26.703125 \nz\n\" id=\"DejaVuSans-52\"/>\n       </defs>\n       <use xlink:href=\"#DejaVuSans-99\"/>\n       <use x=\"54.980469\" xlink:href=\"#DejaVuSans-111\"/>\n       <use x=\"116.162109\" xlink:href=\"#DejaVuSans-110\"/>\n       <use x=\"179.541016\" xlink:href=\"#DejaVuSans-116\"/>\n       <use x=\"218.75\" xlink:href=\"#DejaVuSans-52\"/>\n      </g>\n     </g>\n    </g>\n    <g id=\"xtick_6\">\n     <g id=\"line2d_6\">\n      <g>\n       <use style=\"stroke:#000000;stroke-width:0.8;\" x=\"140.87\" xlink:href=\"#m9ec374eaef\" y=\"228.439219\"/>\n      </g>\n     </g>\n     <g id=\"text_6\">\n      <!-- cont5 -->\n      <g transform=\"translate(143.629375 263.676719)rotate(-90)scale(0.1 -0.1)\">\n       <defs>\n        <path d=\"M 10.796875 72.90625 \nL 49.515625 72.90625 \nL 49.515625 64.59375 \nL 19.828125 64.59375 \nL 19.828125 46.734375 \nQ 21.96875 47.46875 24.109375 47.828125 \nQ 26.265625 48.1875 28.421875 48.1875 \nQ 40.625 48.1875 47.75 41.5 \nQ 54.890625 34.8125 54.890625 23.390625 \nQ 54.890625 11.625 47.5625 5.09375 \nQ 40.234375 -1.421875 26.90625 -1.421875 \nQ 22.3125 -1.421875 17.546875 -0.640625 \nQ 12.796875 0.140625 7.71875 1.703125 \nL 7.71875 11.625 \nQ 12.109375 9.234375 16.796875 8.0625 \nQ 21.484375 6.890625 26.703125 6.890625 \nQ 35.15625 6.890625 40.078125 11.328125 \nQ 45.015625 15.765625 45.015625 23.390625 \nQ 45.015625 31 40.078125 35.4375 \nQ 35.15625 39.890625 26.703125 39.890625 \nQ 22.75 39.890625 18.8125 39.015625 \nQ 14.890625 38.140625 10.796875 36.28125 \nz\n\" id=\"DejaVuSans-53\"/>\n       </defs>\n       <use xlink:href=\"#DejaVuSans-99\"/>\n       <use x=\"54.980469\" xlink:href=\"#DejaVuSans-111\"/>\n       <use x=\"116.162109\" xlink:href=\"#DejaVuSans-110\"/>\n       <use x=\"179.541016\" xlink:href=\"#DejaVuSans-116\"/>\n       <use x=\"218.75\" xlink:href=\"#DejaVuSans-53\"/>\n      </g>\n     </g>\n    </g>\n    <g id=\"xtick_7\">\n     <g id=\"line2d_7\">\n      <g>\n       <use style=\"stroke:#000000;stroke-width:0.8;\" x=\"157.61\" xlink:href=\"#m9ec374eaef\" y=\"228.439219\"/>\n      </g>\n     </g>\n     <g id=\"text_7\">\n      <!-- cont6 -->\n      <g transform=\"translate(160.369375 263.676719)rotate(-90)scale(0.1 -0.1)\">\n       <defs>\n        <path d=\"M 33.015625 40.375 \nQ 26.375 40.375 22.484375 35.828125 \nQ 18.609375 31.296875 18.609375 23.390625 \nQ 18.609375 15.53125 22.484375 10.953125 \nQ 26.375 6.390625 33.015625 6.390625 \nQ 39.65625 6.390625 43.53125 10.953125 \nQ 47.40625 15.53125 47.40625 23.390625 \nQ 47.40625 31.296875 43.53125 35.828125 \nQ 39.65625 40.375 33.015625 40.375 \nz\nM 52.59375 71.296875 \nL 52.59375 62.3125 \nQ 48.875 64.0625 45.09375 64.984375 \nQ 41.3125 65.921875 37.59375 65.921875 \nQ 27.828125 65.921875 22.671875 59.328125 \nQ 17.53125 52.734375 16.796875 39.40625 \nQ 19.671875 43.65625 24.015625 45.921875 \nQ 28.375 48.1875 33.59375 48.1875 \nQ 44.578125 48.1875 50.953125 41.515625 \nQ 57.328125 34.859375 57.328125 23.390625 \nQ 57.328125 12.15625 50.6875 5.359375 \nQ 44.046875 -1.421875 33.015625 -1.421875 \nQ 20.359375 -1.421875 13.671875 8.265625 \nQ 6.984375 17.96875 6.984375 36.375 \nQ 6.984375 53.65625 15.1875 63.9375 \nQ 23.390625 74.21875 37.203125 74.21875 \nQ 40.921875 74.21875 44.703125 73.484375 \nQ 48.484375 72.75 52.59375 71.296875 \nz\n\" id=\"DejaVuSans-54\"/>\n       </defs>\n       <use xlink:href=\"#DejaVuSans-99\"/>\n       <use x=\"54.980469\" xlink:href=\"#DejaVuSans-111\"/>\n       <use x=\"116.162109\" xlink:href=\"#DejaVuSans-110\"/>\n       <use x=\"179.541016\" xlink:href=\"#DejaVuSans-116\"/>\n       <use x=\"218.75\" xlink:href=\"#DejaVuSans-54\"/>\n      </g>\n     </g>\n    </g>\n    <g id=\"xtick_8\">\n     <g id=\"line2d_8\">\n      <g>\n       <use style=\"stroke:#000000;stroke-width:0.8;\" x=\"174.35\" xlink:href=\"#m9ec374eaef\" y=\"228.439219\"/>\n      </g>\n     </g>\n     <g id=\"text_8\">\n      <!-- cont7 -->\n      <g transform=\"translate(177.109375 263.676719)rotate(-90)scale(0.1 -0.1)\">\n       <defs>\n        <path d=\"M 8.203125 72.90625 \nL 55.078125 72.90625 \nL 55.078125 68.703125 \nL 28.609375 0 \nL 18.3125 0 \nL 43.21875 64.59375 \nL 8.203125 64.59375 \nz\n\" id=\"DejaVuSans-55\"/>\n       </defs>\n       <use xlink:href=\"#DejaVuSans-99\"/>\n       <use x=\"54.980469\" xlink:href=\"#DejaVuSans-111\"/>\n       <use x=\"116.162109\" xlink:href=\"#DejaVuSans-110\"/>\n       <use x=\"179.541016\" xlink:href=\"#DejaVuSans-116\"/>\n       <use x=\"218.75\" xlink:href=\"#DejaVuSans-55\"/>\n      </g>\n     </g>\n    </g>\n    <g id=\"xtick_9\">\n     <g id=\"line2d_9\">\n      <g>\n       <use style=\"stroke:#000000;stroke-width:0.8;\" x=\"191.09\" xlink:href=\"#m9ec374eaef\" y=\"228.439219\"/>\n      </g>\n     </g>\n     <g id=\"text_9\">\n      <!-- cont8 -->\n      <g transform=\"translate(193.849375 263.676719)rotate(-90)scale(0.1 -0.1)\">\n       <defs>\n        <path d=\"M 31.78125 34.625 \nQ 24.75 34.625 20.71875 30.859375 \nQ 16.703125 27.09375 16.703125 20.515625 \nQ 16.703125 13.921875 20.71875 10.15625 \nQ 24.75 6.390625 31.78125 6.390625 \nQ 38.8125 6.390625 42.859375 10.171875 \nQ 46.921875 13.96875 46.921875 20.515625 \nQ 46.921875 27.09375 42.890625 30.859375 \nQ 38.875 34.625 31.78125 34.625 \nz\nM 21.921875 38.8125 \nQ 15.578125 40.375 12.03125 44.71875 \nQ 8.5 49.078125 8.5 55.328125 \nQ 8.5 64.0625 14.71875 69.140625 \nQ 20.953125 74.21875 31.78125 74.21875 \nQ 42.671875 74.21875 48.875 69.140625 \nQ 55.078125 64.0625 55.078125 55.328125 \nQ 55.078125 49.078125 51.53125 44.71875 \nQ 48 40.375 41.703125 38.8125 \nQ 48.828125 37.15625 52.796875 32.3125 \nQ 56.78125 27.484375 56.78125 20.515625 \nQ 56.78125 9.90625 50.3125 4.234375 \nQ 43.84375 -1.421875 31.78125 -1.421875 \nQ 19.734375 -1.421875 13.25 4.234375 \nQ 6.78125 9.90625 6.78125 20.515625 \nQ 6.78125 27.484375 10.78125 32.3125 \nQ 14.796875 37.15625 21.921875 38.8125 \nz\nM 18.3125 54.390625 \nQ 18.3125 48.734375 21.84375 45.5625 \nQ 25.390625 42.390625 31.78125 42.390625 \nQ 38.140625 42.390625 41.71875 45.5625 \nQ 45.3125 48.734375 45.3125 54.390625 \nQ 45.3125 60.0625 41.71875 63.234375 \nQ 38.140625 66.40625 31.78125 66.40625 \nQ 25.390625 66.40625 21.84375 63.234375 \nQ 18.3125 60.0625 18.3125 54.390625 \nz\n\" id=\"DejaVuSans-56\"/>\n       </defs>\n       <use xlink:href=\"#DejaVuSans-99\"/>\n       <use x=\"54.980469\" xlink:href=\"#DejaVuSans-111\"/>\n       <use x=\"116.162109\" xlink:href=\"#DejaVuSans-110\"/>\n       <use x=\"179.541016\" xlink:href=\"#DejaVuSans-116\"/>\n       <use x=\"218.75\" xlink:href=\"#DejaVuSans-56\"/>\n      </g>\n     </g>\n    </g>\n    <g id=\"xtick_10\">\n     <g id=\"line2d_10\">\n      <g>\n       <use style=\"stroke:#000000;stroke-width:0.8;\" x=\"207.83\" xlink:href=\"#m9ec374eaef\" y=\"228.439219\"/>\n      </g>\n     </g>\n     <g id=\"text_10\">\n      <!-- cont9 -->\n      <g transform=\"translate(210.589375 263.676719)rotate(-90)scale(0.1 -0.1)\">\n       <defs>\n        <path d=\"M 10.984375 1.515625 \nL 10.984375 10.5 \nQ 14.703125 8.734375 18.5 7.8125 \nQ 22.3125 6.890625 25.984375 6.890625 \nQ 35.75 6.890625 40.890625 13.453125 \nQ 46.046875 20.015625 46.78125 33.40625 \nQ 43.953125 29.203125 39.59375 26.953125 \nQ 35.25 24.703125 29.984375 24.703125 \nQ 19.046875 24.703125 12.671875 31.3125 \nQ 6.296875 37.9375 6.296875 49.421875 \nQ 6.296875 60.640625 12.9375 67.421875 \nQ 19.578125 74.21875 30.609375 74.21875 \nQ 43.265625 74.21875 49.921875 64.515625 \nQ 56.59375 54.828125 56.59375 36.375 \nQ 56.59375 19.140625 48.40625 8.859375 \nQ 40.234375 -1.421875 26.421875 -1.421875 \nQ 22.703125 -1.421875 18.890625 -0.6875 \nQ 15.09375 0.046875 10.984375 1.515625 \nz\nM 30.609375 32.421875 \nQ 37.25 32.421875 41.125 36.953125 \nQ 45.015625 41.5 45.015625 49.421875 \nQ 45.015625 57.28125 41.125 61.84375 \nQ 37.25 66.40625 30.609375 66.40625 \nQ 23.96875 66.40625 20.09375 61.84375 \nQ 16.21875 57.28125 16.21875 49.421875 \nQ 16.21875 41.5 20.09375 36.953125 \nQ 23.96875 32.421875 30.609375 32.421875 \nz\n\" id=\"DejaVuSans-57\"/>\n       </defs>\n       <use xlink:href=\"#DejaVuSans-99\"/>\n       <use x=\"54.980469\" xlink:href=\"#DejaVuSans-111\"/>\n       <use x=\"116.162109\" xlink:href=\"#DejaVuSans-110\"/>\n       <use x=\"179.541016\" xlink:href=\"#DejaVuSans-116\"/>\n       <use x=\"218.75\" xlink:href=\"#DejaVuSans-57\"/>\n      </g>\n     </g>\n    </g>\n    <g id=\"xtick_11\">\n     <g id=\"line2d_11\">\n      <g>\n       <use style=\"stroke:#000000;stroke-width:0.8;\" x=\"224.57\" xlink:href=\"#m9ec374eaef\" y=\"228.439219\"/>\n      </g>\n     </g>\n     <g id=\"text_11\">\n      <!-- cont10 -->\n      <g transform=\"translate(227.329375 270.039219)rotate(-90)scale(0.1 -0.1)\">\n       <defs>\n        <path d=\"M 31.78125 66.40625 \nQ 24.171875 66.40625 20.328125 58.90625 \nQ 16.5 51.421875 16.5 36.375 \nQ 16.5 21.390625 20.328125 13.890625 \nQ 24.171875 6.390625 31.78125 6.390625 \nQ 39.453125 6.390625 43.28125 13.890625 \nQ 47.125 21.390625 47.125 36.375 \nQ 47.125 51.421875 43.28125 58.90625 \nQ 39.453125 66.40625 31.78125 66.40625 \nz\nM 31.78125 74.21875 \nQ 44.046875 74.21875 50.515625 64.515625 \nQ 56.984375 54.828125 56.984375 36.375 \nQ 56.984375 17.96875 50.515625 8.265625 \nQ 44.046875 -1.421875 31.78125 -1.421875 \nQ 19.53125 -1.421875 13.0625 8.265625 \nQ 6.59375 17.96875 6.59375 36.375 \nQ 6.59375 54.828125 13.0625 64.515625 \nQ 19.53125 74.21875 31.78125 74.21875 \nz\n\" id=\"DejaVuSans-48\"/>\n       </defs>\n       <use xlink:href=\"#DejaVuSans-99\"/>\n       <use x=\"54.980469\" xlink:href=\"#DejaVuSans-111\"/>\n       <use x=\"116.162109\" xlink:href=\"#DejaVuSans-110\"/>\n       <use x=\"179.541016\" xlink:href=\"#DejaVuSans-116\"/>\n       <use x=\"218.75\" xlink:href=\"#DejaVuSans-49\"/>\n       <use x=\"282.373047\" xlink:href=\"#DejaVuSans-48\"/>\n      </g>\n     </g>\n    </g>\n    <g id=\"xtick_12\">\n     <g id=\"line2d_12\">\n      <g>\n       <use style=\"stroke:#000000;stroke-width:0.8;\" x=\"241.31\" xlink:href=\"#m9ec374eaef\" y=\"228.439219\"/>\n      </g>\n     </g>\n     <g id=\"text_12\">\n      <!-- cont11 -->\n      <g transform=\"translate(244.069375 270.039219)rotate(-90)scale(0.1 -0.1)\">\n       <use xlink:href=\"#DejaVuSans-99\"/>\n       <use x=\"54.980469\" xlink:href=\"#DejaVuSans-111\"/>\n       <use x=\"116.162109\" xlink:href=\"#DejaVuSans-110\"/>\n       <use x=\"179.541016\" xlink:href=\"#DejaVuSans-116\"/>\n       <use x=\"218.75\" xlink:href=\"#DejaVuSans-49\"/>\n       <use x=\"282.373047\" xlink:href=\"#DejaVuSans-49\"/>\n      </g>\n     </g>\n    </g>\n    <g id=\"xtick_13\">\n     <g id=\"line2d_13\">\n      <g>\n       <use style=\"stroke:#000000;stroke-width:0.8;\" x=\"258.05\" xlink:href=\"#m9ec374eaef\" y=\"228.439219\"/>\n      </g>\n     </g>\n     <g id=\"text_13\">\n      <!-- cont12 -->\n      <g transform=\"translate(260.809375 270.039219)rotate(-90)scale(0.1 -0.1)\">\n       <use xlink:href=\"#DejaVuSans-99\"/>\n       <use x=\"54.980469\" xlink:href=\"#DejaVuSans-111\"/>\n       <use x=\"116.162109\" xlink:href=\"#DejaVuSans-110\"/>\n       <use x=\"179.541016\" xlink:href=\"#DejaVuSans-116\"/>\n       <use x=\"218.75\" xlink:href=\"#DejaVuSans-49\"/>\n       <use x=\"282.373047\" xlink:href=\"#DejaVuSans-50\"/>\n      </g>\n     </g>\n    </g>\n    <g id=\"xtick_14\">\n     <g id=\"line2d_14\">\n      <g>\n       <use style=\"stroke:#000000;stroke-width:0.8;\" x=\"274.79\" xlink:href=\"#m9ec374eaef\" y=\"228.439219\"/>\n      </g>\n     </g>\n     <g id=\"text_14\">\n      <!-- cont13 -->\n      <g transform=\"translate(277.549375 270.039219)rotate(-90)scale(0.1 -0.1)\">\n       <use xlink:href=\"#DejaVuSans-99\"/>\n       <use x=\"54.980469\" xlink:href=\"#DejaVuSans-111\"/>\n       <use x=\"116.162109\" xlink:href=\"#DejaVuSans-110\"/>\n       <use x=\"179.541016\" xlink:href=\"#DejaVuSans-116\"/>\n       <use x=\"218.75\" xlink:href=\"#DejaVuSans-49\"/>\n       <use x=\"282.373047\" xlink:href=\"#DejaVuSans-51\"/>\n      </g>\n     </g>\n    </g>\n    <g id=\"xtick_15\">\n     <g id=\"line2d_15\">\n      <g>\n       <use style=\"stroke:#000000;stroke-width:0.8;\" x=\"291.53\" xlink:href=\"#m9ec374eaef\" y=\"228.439219\"/>\n      </g>\n     </g>\n     <g id=\"text_15\">\n      <!-- cont14 -->\n      <g transform=\"translate(294.289375 270.039219)rotate(-90)scale(0.1 -0.1)\">\n       <use xlink:href=\"#DejaVuSans-99\"/>\n       <use x=\"54.980469\" xlink:href=\"#DejaVuSans-111\"/>\n       <use x=\"116.162109\" xlink:href=\"#DejaVuSans-110\"/>\n       <use x=\"179.541016\" xlink:href=\"#DejaVuSans-116\"/>\n       <use x=\"218.75\" xlink:href=\"#DejaVuSans-49\"/>\n       <use x=\"282.373047\" xlink:href=\"#DejaVuSans-52\"/>\n      </g>\n     </g>\n    </g>\n    <g id=\"xtick_16\">\n     <g id=\"line2d_16\">\n      <g>\n       <use style=\"stroke:#000000;stroke-width:0.8;\" x=\"308.27\" xlink:href=\"#m9ec374eaef\" y=\"228.439219\"/>\n      </g>\n     </g>\n     <g id=\"text_16\">\n      <!-- target -->\n      <g transform=\"translate(311.029375 265.845469)rotate(-90)scale(0.1 -0.1)\">\n       <defs>\n        <path d=\"M 34.28125 27.484375 \nQ 23.390625 27.484375 19.1875 25 \nQ 14.984375 22.515625 14.984375 16.5 \nQ 14.984375 11.71875 18.140625 8.90625 \nQ 21.296875 6.109375 26.703125 6.109375 \nQ 34.1875 6.109375 38.703125 11.40625 \nQ 43.21875 16.703125 43.21875 25.484375 \nL 43.21875 27.484375 \nz\nM 52.203125 31.203125 \nL 52.203125 0 \nL 43.21875 0 \nL 43.21875 8.296875 \nQ 40.140625 3.328125 35.546875 0.953125 \nQ 30.953125 -1.421875 24.3125 -1.421875 \nQ 15.921875 -1.421875 10.953125 3.296875 \nQ 6 8.015625 6 15.921875 \nQ 6 25.140625 12.171875 29.828125 \nQ 18.359375 34.515625 30.609375 34.515625 \nL 43.21875 34.515625 \nL 43.21875 35.40625 \nQ 43.21875 41.609375 39.140625 45 \nQ 35.0625 48.390625 27.6875 48.390625 \nQ 23 48.390625 18.546875 47.265625 \nQ 14.109375 46.140625 10.015625 43.890625 \nL 10.015625 52.203125 \nQ 14.9375 54.109375 19.578125 55.046875 \nQ 24.21875 56 28.609375 56 \nQ 40.484375 56 46.34375 49.84375 \nQ 52.203125 43.703125 52.203125 31.203125 \nz\n\" id=\"DejaVuSans-97\"/>\n        <path d=\"M 41.109375 46.296875 \nQ 39.59375 47.171875 37.8125 47.578125 \nQ 36.03125 48 33.890625 48 \nQ 26.265625 48 22.1875 43.046875 \nQ 18.109375 38.09375 18.109375 28.8125 \nL 18.109375 0 \nL 9.078125 0 \nL 9.078125 54.6875 \nL 18.109375 54.6875 \nL 18.109375 46.1875 \nQ 20.953125 51.171875 25.484375 53.578125 \nQ 30.03125 56 36.53125 56 \nQ 37.453125 56 38.578125 55.875 \nQ 39.703125 55.765625 41.0625 55.515625 \nz\n\" id=\"DejaVuSans-114\"/>\n        <path d=\"M 45.40625 27.984375 \nQ 45.40625 37.75 41.375 43.109375 \nQ 37.359375 48.484375 30.078125 48.484375 \nQ 22.859375 48.484375 18.828125 43.109375 \nQ 14.796875 37.75 14.796875 27.984375 \nQ 14.796875 18.265625 18.828125 12.890625 \nQ 22.859375 7.515625 30.078125 7.515625 \nQ 37.359375 7.515625 41.375 12.890625 \nQ 45.40625 18.265625 45.40625 27.984375 \nz\nM 54.390625 6.78125 \nQ 54.390625 -7.171875 48.1875 -13.984375 \nQ 42 -20.796875 29.203125 -20.796875 \nQ 24.46875 -20.796875 20.265625 -20.09375 \nQ 16.0625 -19.390625 12.109375 -17.921875 \nL 12.109375 -9.1875 \nQ 16.0625 -11.328125 19.921875 -12.34375 \nQ 23.78125 -13.375 27.78125 -13.375 \nQ 36.625 -13.375 41.015625 -8.765625 \nQ 45.40625 -4.15625 45.40625 5.171875 \nL 45.40625 9.625 \nQ 42.625 4.78125 38.28125 2.390625 \nQ 33.9375 0 27.875 0 \nQ 17.828125 0 11.671875 7.65625 \nQ 5.515625 15.328125 5.515625 27.984375 \nQ 5.515625 40.671875 11.671875 48.328125 \nQ 17.828125 56 27.875 56 \nQ 33.9375 56 38.28125 53.609375 \nQ 42.625 51.21875 45.40625 46.390625 \nL 45.40625 54.6875 \nL 54.390625 54.6875 \nz\n\" id=\"DejaVuSans-103\"/>\n        <path d=\"M 56.203125 29.59375 \nL 56.203125 25.203125 \nL 14.890625 25.203125 \nQ 15.484375 15.921875 20.484375 11.0625 \nQ 25.484375 6.203125 34.421875 6.203125 \nQ 39.59375 6.203125 44.453125 7.46875 \nQ 49.3125 8.734375 54.109375 11.28125 \nL 54.109375 2.78125 \nQ 49.265625 0.734375 44.1875 -0.34375 \nQ 39.109375 -1.421875 33.890625 -1.421875 \nQ 20.796875 -1.421875 13.15625 6.1875 \nQ 5.515625 13.8125 5.515625 26.8125 \nQ 5.515625 40.234375 12.765625 48.109375 \nQ 20.015625 56 32.328125 56 \nQ 43.359375 56 49.78125 48.890625 \nQ 56.203125 41.796875 56.203125 29.59375 \nz\nM 47.21875 32.234375 \nQ 47.125 39.59375 43.09375 43.984375 \nQ 39.0625 48.390625 32.421875 48.390625 \nQ 24.90625 48.390625 20.390625 44.140625 \nQ 15.875 39.890625 15.1875 32.171875 \nz\n\" id=\"DejaVuSans-101\"/>\n       </defs>\n       <use xlink:href=\"#DejaVuSans-116\"/>\n       <use x=\"39.208984\" xlink:href=\"#DejaVuSans-97\"/>\n       <use x=\"100.488281\" xlink:href=\"#DejaVuSans-114\"/>\n       <use x=\"139.851562\" xlink:href=\"#DejaVuSans-103\"/>\n       <use x=\"203.328125\" xlink:href=\"#DejaVuSans-101\"/>\n       <use x=\"264.851562\" xlink:href=\"#DejaVuSans-116\"/>\n      </g>\n     </g>\n    </g>\n   </g>\n   <g id=\"matplotlib.axis_2\">\n    <g id=\"ytick_1\">\n     <g id=\"line2d_17\">\n      <defs>\n       <path d=\"M 0 0 \nL -3.5 0 \n\" id=\"maa5e6aab78\" style=\"stroke:#000000;stroke-width:0.8;\"/>\n      </defs>\n      <g>\n       <use style=\"stroke:#000000;stroke-width:0.8;\" x=\"48.8\" xlink:href=\"#maa5e6aab78\" y=\"17.794219\"/>\n      </g>\n     </g>\n     <g id=\"text_17\">\n      <!-- id -->\n      <g transform=\"translate(32.673438 21.593437)scale(0.1 -0.1)\">\n       <use xlink:href=\"#DejaVuSans-105\"/>\n       <use x=\"27.783203\" xlink:href=\"#DejaVuSans-100\"/>\n      </g>\n     </g>\n    </g>\n    <g id=\"ytick_2\">\n     <g id=\"line2d_18\">\n      <g>\n       <use style=\"stroke:#000000;stroke-width:0.8;\" x=\"48.8\" xlink:href=\"#maa5e6aab78\" y=\"31.384219\"/>\n      </g>\n     </g>\n     <g id=\"text_18\">\n      <!-- cont1 -->\n      <g transform=\"translate(13.5625 35.183437)scale(0.1 -0.1)\">\n       <use xlink:href=\"#DejaVuSans-99\"/>\n       <use x=\"54.980469\" xlink:href=\"#DejaVuSans-111\"/>\n       <use x=\"116.162109\" xlink:href=\"#DejaVuSans-110\"/>\n       <use x=\"179.541016\" xlink:href=\"#DejaVuSans-116\"/>\n       <use x=\"218.75\" xlink:href=\"#DejaVuSans-49\"/>\n      </g>\n     </g>\n    </g>\n    <g id=\"ytick_3\">\n     <g id=\"line2d_19\">\n      <g>\n       <use style=\"stroke:#000000;stroke-width:0.8;\" x=\"48.8\" xlink:href=\"#maa5e6aab78\" y=\"44.974219\"/>\n      </g>\n     </g>\n     <g id=\"text_19\">\n      <!-- cont2 -->\n      <g transform=\"translate(13.5625 48.773437)scale(0.1 -0.1)\">\n       <use xlink:href=\"#DejaVuSans-99\"/>\n       <use x=\"54.980469\" xlink:href=\"#DejaVuSans-111\"/>\n       <use x=\"116.162109\" xlink:href=\"#DejaVuSans-110\"/>\n       <use x=\"179.541016\" xlink:href=\"#DejaVuSans-116\"/>\n       <use x=\"218.75\" xlink:href=\"#DejaVuSans-50\"/>\n      </g>\n     </g>\n    </g>\n    <g id=\"ytick_4\">\n     <g id=\"line2d_20\">\n      <g>\n       <use style=\"stroke:#000000;stroke-width:0.8;\" x=\"48.8\" xlink:href=\"#maa5e6aab78\" y=\"58.564219\"/>\n      </g>\n     </g>\n     <g id=\"text_20\">\n      <!-- cont3 -->\n      <g transform=\"translate(13.5625 62.363437)scale(0.1 -0.1)\">\n       <use xlink:href=\"#DejaVuSans-99\"/>\n       <use x=\"54.980469\" xlink:href=\"#DejaVuSans-111\"/>\n       <use x=\"116.162109\" xlink:href=\"#DejaVuSans-110\"/>\n       <use x=\"179.541016\" xlink:href=\"#DejaVuSans-116\"/>\n       <use x=\"218.75\" xlink:href=\"#DejaVuSans-51\"/>\n      </g>\n     </g>\n    </g>\n    <g id=\"ytick_5\">\n     <g id=\"line2d_21\">\n      <g>\n       <use style=\"stroke:#000000;stroke-width:0.8;\" x=\"48.8\" xlink:href=\"#maa5e6aab78\" y=\"72.154219\"/>\n      </g>\n     </g>\n     <g id=\"text_21\">\n      <!-- cont4 -->\n      <g transform=\"translate(13.5625 75.953437)scale(0.1 -0.1)\">\n       <use xlink:href=\"#DejaVuSans-99\"/>\n       <use x=\"54.980469\" xlink:href=\"#DejaVuSans-111\"/>\n       <use x=\"116.162109\" xlink:href=\"#DejaVuSans-110\"/>\n       <use x=\"179.541016\" xlink:href=\"#DejaVuSans-116\"/>\n       <use x=\"218.75\" xlink:href=\"#DejaVuSans-52\"/>\n      </g>\n     </g>\n    </g>\n    <g id=\"ytick_6\">\n     <g id=\"line2d_22\">\n      <g>\n       <use style=\"stroke:#000000;stroke-width:0.8;\" x=\"48.8\" xlink:href=\"#maa5e6aab78\" y=\"85.744219\"/>\n      </g>\n     </g>\n     <g id=\"text_22\">\n      <!-- cont5 -->\n      <g transform=\"translate(13.5625 89.543437)scale(0.1 -0.1)\">\n       <use xlink:href=\"#DejaVuSans-99\"/>\n       <use x=\"54.980469\" xlink:href=\"#DejaVuSans-111\"/>\n       <use x=\"116.162109\" xlink:href=\"#DejaVuSans-110\"/>\n       <use x=\"179.541016\" xlink:href=\"#DejaVuSans-116\"/>\n       <use x=\"218.75\" xlink:href=\"#DejaVuSans-53\"/>\n      </g>\n     </g>\n    </g>\n    <g id=\"ytick_7\">\n     <g id=\"line2d_23\">\n      <g>\n       <use style=\"stroke:#000000;stroke-width:0.8;\" x=\"48.8\" xlink:href=\"#maa5e6aab78\" y=\"99.334219\"/>\n      </g>\n     </g>\n     <g id=\"text_23\">\n      <!-- cont6 -->\n      <g transform=\"translate(13.5625 103.133437)scale(0.1 -0.1)\">\n       <use xlink:href=\"#DejaVuSans-99\"/>\n       <use x=\"54.980469\" xlink:href=\"#DejaVuSans-111\"/>\n       <use x=\"116.162109\" xlink:href=\"#DejaVuSans-110\"/>\n       <use x=\"179.541016\" xlink:href=\"#DejaVuSans-116\"/>\n       <use x=\"218.75\" xlink:href=\"#DejaVuSans-54\"/>\n      </g>\n     </g>\n    </g>\n    <g id=\"ytick_8\">\n     <g id=\"line2d_24\">\n      <g>\n       <use style=\"stroke:#000000;stroke-width:0.8;\" x=\"48.8\" xlink:href=\"#maa5e6aab78\" y=\"112.924219\"/>\n      </g>\n     </g>\n     <g id=\"text_24\">\n      <!-- cont7 -->\n      <g transform=\"translate(13.5625 116.723437)scale(0.1 -0.1)\">\n       <use xlink:href=\"#DejaVuSans-99\"/>\n       <use x=\"54.980469\" xlink:href=\"#DejaVuSans-111\"/>\n       <use x=\"116.162109\" xlink:href=\"#DejaVuSans-110\"/>\n       <use x=\"179.541016\" xlink:href=\"#DejaVuSans-116\"/>\n       <use x=\"218.75\" xlink:href=\"#DejaVuSans-55\"/>\n      </g>\n     </g>\n    </g>\n    <g id=\"ytick_9\">\n     <g id=\"line2d_25\">\n      <g>\n       <use style=\"stroke:#000000;stroke-width:0.8;\" x=\"48.8\" xlink:href=\"#maa5e6aab78\" y=\"126.514219\"/>\n      </g>\n     </g>\n     <g id=\"text_25\">\n      <!-- cont8 -->\n      <g transform=\"translate(13.5625 130.313437)scale(0.1 -0.1)\">\n       <use xlink:href=\"#DejaVuSans-99\"/>\n       <use x=\"54.980469\" xlink:href=\"#DejaVuSans-111\"/>\n       <use x=\"116.162109\" xlink:href=\"#DejaVuSans-110\"/>\n       <use x=\"179.541016\" xlink:href=\"#DejaVuSans-116\"/>\n       <use x=\"218.75\" xlink:href=\"#DejaVuSans-56\"/>\n      </g>\n     </g>\n    </g>\n    <g id=\"ytick_10\">\n     <g id=\"line2d_26\">\n      <g>\n       <use style=\"stroke:#000000;stroke-width:0.8;\" x=\"48.8\" xlink:href=\"#maa5e6aab78\" y=\"140.104219\"/>\n      </g>\n     </g>\n     <g id=\"text_26\">\n      <!-- cont9 -->\n      <g transform=\"translate(13.5625 143.903437)scale(0.1 -0.1)\">\n       <use xlink:href=\"#DejaVuSans-99\"/>\n       <use x=\"54.980469\" xlink:href=\"#DejaVuSans-111\"/>\n       <use x=\"116.162109\" xlink:href=\"#DejaVuSans-110\"/>\n       <use x=\"179.541016\" xlink:href=\"#DejaVuSans-116\"/>\n       <use x=\"218.75\" xlink:href=\"#DejaVuSans-57\"/>\n      </g>\n     </g>\n    </g>\n    <g id=\"ytick_11\">\n     <g id=\"line2d_27\">\n      <g>\n       <use style=\"stroke:#000000;stroke-width:0.8;\" x=\"48.8\" xlink:href=\"#maa5e6aab78\" y=\"153.694219\"/>\n      </g>\n     </g>\n     <g id=\"text_27\">\n      <!-- cont10 -->\n      <g transform=\"translate(7.2 157.493437)scale(0.1 -0.1)\">\n       <use xlink:href=\"#DejaVuSans-99\"/>\n       <use x=\"54.980469\" xlink:href=\"#DejaVuSans-111\"/>\n       <use x=\"116.162109\" xlink:href=\"#DejaVuSans-110\"/>\n       <use x=\"179.541016\" xlink:href=\"#DejaVuSans-116\"/>\n       <use x=\"218.75\" xlink:href=\"#DejaVuSans-49\"/>\n       <use x=\"282.373047\" xlink:href=\"#DejaVuSans-48\"/>\n      </g>\n     </g>\n    </g>\n    <g id=\"ytick_12\">\n     <g id=\"line2d_28\">\n      <g>\n       <use style=\"stroke:#000000;stroke-width:0.8;\" x=\"48.8\" xlink:href=\"#maa5e6aab78\" y=\"167.284219\"/>\n      </g>\n     </g>\n     <g id=\"text_28\">\n      <!-- cont11 -->\n      <g transform=\"translate(7.2 171.083437)scale(0.1 -0.1)\">\n       <use xlink:href=\"#DejaVuSans-99\"/>\n       <use x=\"54.980469\" xlink:href=\"#DejaVuSans-111\"/>\n       <use x=\"116.162109\" xlink:href=\"#DejaVuSans-110\"/>\n       <use x=\"179.541016\" xlink:href=\"#DejaVuSans-116\"/>\n       <use x=\"218.75\" xlink:href=\"#DejaVuSans-49\"/>\n       <use x=\"282.373047\" xlink:href=\"#DejaVuSans-49\"/>\n      </g>\n     </g>\n    </g>\n    <g id=\"ytick_13\">\n     <g id=\"line2d_29\">\n      <g>\n       <use style=\"stroke:#000000;stroke-width:0.8;\" x=\"48.8\" xlink:href=\"#maa5e6aab78\" y=\"180.874219\"/>\n      </g>\n     </g>\n     <g id=\"text_29\">\n      <!-- cont12 -->\n      <g transform=\"translate(7.2 184.673437)scale(0.1 -0.1)\">\n       <use xlink:href=\"#DejaVuSans-99\"/>\n       <use x=\"54.980469\" xlink:href=\"#DejaVuSans-111\"/>\n       <use x=\"116.162109\" xlink:href=\"#DejaVuSans-110\"/>\n       <use x=\"179.541016\" xlink:href=\"#DejaVuSans-116\"/>\n       <use x=\"218.75\" xlink:href=\"#DejaVuSans-49\"/>\n       <use x=\"282.373047\" xlink:href=\"#DejaVuSans-50\"/>\n      </g>\n     </g>\n    </g>\n    <g id=\"ytick_14\">\n     <g id=\"line2d_30\">\n      <g>\n       <use style=\"stroke:#000000;stroke-width:0.8;\" x=\"48.8\" xlink:href=\"#maa5e6aab78\" y=\"194.464219\"/>\n      </g>\n     </g>\n     <g id=\"text_30\">\n      <!-- cont13 -->\n      <g transform=\"translate(7.2 198.263437)scale(0.1 -0.1)\">\n       <use xlink:href=\"#DejaVuSans-99\"/>\n       <use x=\"54.980469\" xlink:href=\"#DejaVuSans-111\"/>\n       <use x=\"116.162109\" xlink:href=\"#DejaVuSans-110\"/>\n       <use x=\"179.541016\" xlink:href=\"#DejaVuSans-116\"/>\n       <use x=\"218.75\" xlink:href=\"#DejaVuSans-49\"/>\n       <use x=\"282.373047\" xlink:href=\"#DejaVuSans-51\"/>\n      </g>\n     </g>\n    </g>\n    <g id=\"ytick_15\">\n     <g id=\"line2d_31\">\n      <g>\n       <use style=\"stroke:#000000;stroke-width:0.8;\" x=\"48.8\" xlink:href=\"#maa5e6aab78\" y=\"208.054219\"/>\n      </g>\n     </g>\n     <g id=\"text_31\">\n      <!-- cont14 -->\n      <g transform=\"translate(7.2 211.853437)scale(0.1 -0.1)\">\n       <use xlink:href=\"#DejaVuSans-99\"/>\n       <use x=\"54.980469\" xlink:href=\"#DejaVuSans-111\"/>\n       <use x=\"116.162109\" xlink:href=\"#DejaVuSans-110\"/>\n       <use x=\"179.541016\" xlink:href=\"#DejaVuSans-116\"/>\n       <use x=\"218.75\" xlink:href=\"#DejaVuSans-49\"/>\n       <use x=\"282.373047\" xlink:href=\"#DejaVuSans-52\"/>\n      </g>\n     </g>\n    </g>\n    <g id=\"ytick_16\">\n     <g id=\"line2d_32\">\n      <g>\n       <use style=\"stroke:#000000;stroke-width:0.8;\" x=\"48.8\" xlink:href=\"#maa5e6aab78\" y=\"221.644219\"/>\n      </g>\n     </g>\n     <g id=\"text_32\">\n      <!-- target -->\n      <g transform=\"translate(11.39375 225.443437)scale(0.1 -0.1)\">\n       <use xlink:href=\"#DejaVuSans-116\"/>\n       <use x=\"39.208984\" xlink:href=\"#DejaVuSans-97\"/>\n       <use x=\"100.488281\" xlink:href=\"#DejaVuSans-114\"/>\n       <use x=\"139.851562\" xlink:href=\"#DejaVuSans-103\"/>\n       <use x=\"203.328125\" xlink:href=\"#DejaVuSans-101\"/>\n       <use x=\"264.851562\" xlink:href=\"#DejaVuSans-116\"/>\n      </g>\n     </g>\n    </g>\n   </g>\n  </g>\n  <g id=\"axes_2\">\n   <g id=\"patch_3\">\n    <path clip-path=\"url(#p403b1048da)\" d=\"M 333.38 228.439219 \nL 333.38 227.589844 \nL 333.38 11.848594 \nL 333.38 10.999219 \nL 344.252 10.999219 \nL 344.252 11.848594 \nL 344.252 227.589844 \nL 344.252 228.439219 \nz\n\" style=\"fill:#ffffff;stroke:#ffffff;stroke-linejoin:miter;stroke-width:0.01;\"/>\n   </g>\n   <image height=\"217\" id=\"image1a1fa95c1c\" transform=\"scale(1 -1)translate(0 -217)\" width=\"11\" x=\"333\" xlink:href=\"data:image/png;base64,\niVBORw0KGgoAAAANSUhEUgAAAAsAAADZCAYAAAD2WsoCAAABXUlEQVR4nO3aMY7EMAxDUcv2XGLvf87JtrudXkFAA0xqgqC+FCUxUvf186zmdauqq1XxAvHZO+S8YwXuXIGxGLkOEudTQ2iMmDqjkRv+XIFrSLtjNGgVSLutwLY0OxsxGhijfyU3fwwdZu5fyXbnaLSlOvw5dEgDYgTRzSgwlzkX485oym5/HiiNI+LkiIpYaGC7R8TAvSExJPNH0pAYZ/XVwXvQaDySWZxzNIqc+8bMGWIYDRJDv4Pozn5LDHDesGVuiRid21qlQR3MFQg3oWXeB2hgZohB6IjGPiM4m3MM3b6pGCs3GzkxvPdcOCdTdOYsb+awzi3GohgiDsaAxyY6y5EFOZsYPvK0KSKWY8McjRIaycwxZzqeJRpT2i3Ohwoc0RSKYTfs6T/bkIbtOnJOoUvOxpACpd25GF8af8RVM6YuSCP3hKXF+Ao5B0c0x1naTX9ZfAv8J04V+Av4fSojDdQcWgAAAABJRU5ErkJggg==\" y=\"-11\"/>\n   <g id=\"matplotlib.axis_3\"/>\n   <g id=\"matplotlib.axis_4\">\n    <g id=\"ytick_17\">\n     <g id=\"line2d_33\">\n      <defs>\n       <path d=\"M 0 0 \nL 3.5 0 \n\" id=\"m060c24b75d\" style=\"stroke:#000000;stroke-width:0.8;\"/>\n      </defs>\n      <g>\n       <use style=\"stroke:#000000;stroke-width:0.8;\" x=\"344.252\" xlink:href=\"#m060c24b75d\" y=\"225.420145\"/>\n      </g>\n     </g>\n     <g id=\"text_33\">\n      <!-- −0.4 -->\n      <g transform=\"translate(351.252 229.219364)scale(0.1 -0.1)\">\n       <defs>\n        <path d=\"M 10.59375 35.5 \nL 73.1875 35.5 \nL 73.1875 27.203125 \nL 10.59375 27.203125 \nz\n\" id=\"DejaVuSans-8722\"/>\n        <path d=\"M 10.6875 12.40625 \nL 21 12.40625 \nL 21 0 \nL 10.6875 0 \nz\n\" id=\"DejaVuSans-46\"/>\n       </defs>\n       <use xlink:href=\"#DejaVuSans-8722\"/>\n       <use x=\"83.789062\" xlink:href=\"#DejaVuSans-48\"/>\n       <use x=\"147.412109\" xlink:href=\"#DejaVuSans-46\"/>\n       <use x=\"179.199219\" xlink:href=\"#DejaVuSans-52\"/>\n      </g>\n     </g>\n    </g>\n    <g id=\"ytick_18\">\n     <g id=\"line2d_34\">\n      <g>\n       <use style=\"stroke:#000000;stroke-width:0.8;\" x=\"344.252\" xlink:href=\"#m060c24b75d\" y=\"194.788584\"/>\n      </g>\n     </g>\n     <g id=\"text_34\">\n      <!-- −0.2 -->\n      <g transform=\"translate(351.252 198.587803)scale(0.1 -0.1)\">\n       <use xlink:href=\"#DejaVuSans-8722\"/>\n       <use x=\"83.789062\" xlink:href=\"#DejaVuSans-48\"/>\n       <use x=\"147.412109\" xlink:href=\"#DejaVuSans-46\"/>\n       <use x=\"179.199219\" xlink:href=\"#DejaVuSans-50\"/>\n      </g>\n     </g>\n    </g>\n    <g id=\"ytick_19\">\n     <g id=\"line2d_35\">\n      <g>\n       <use style=\"stroke:#000000;stroke-width:0.8;\" x=\"344.252\" xlink:href=\"#m060c24b75d\" y=\"164.157023\"/>\n      </g>\n     </g>\n     <g id=\"text_35\">\n      <!-- 0.0 -->\n      <g transform=\"translate(351.252 167.956242)scale(0.1 -0.1)\">\n       <use xlink:href=\"#DejaVuSans-48\"/>\n       <use x=\"63.623047\" xlink:href=\"#DejaVuSans-46\"/>\n       <use x=\"95.410156\" xlink:href=\"#DejaVuSans-48\"/>\n      </g>\n     </g>\n    </g>\n    <g id=\"ytick_20\">\n     <g id=\"line2d_36\">\n      <g>\n       <use style=\"stroke:#000000;stroke-width:0.8;\" x=\"344.252\" xlink:href=\"#m060c24b75d\" y=\"133.525462\"/>\n      </g>\n     </g>\n     <g id=\"text_36\">\n      <!-- 0.2 -->\n      <g transform=\"translate(351.252 137.324681)scale(0.1 -0.1)\">\n       <use xlink:href=\"#DejaVuSans-48\"/>\n       <use x=\"63.623047\" xlink:href=\"#DejaVuSans-46\"/>\n       <use x=\"95.410156\" xlink:href=\"#DejaVuSans-50\"/>\n      </g>\n     </g>\n    </g>\n    <g id=\"ytick_21\">\n     <g id=\"line2d_37\">\n      <g>\n       <use style=\"stroke:#000000;stroke-width:0.8;\" x=\"344.252\" xlink:href=\"#m060c24b75d\" y=\"102.893902\"/>\n      </g>\n     </g>\n     <g id=\"text_37\">\n      <!-- 0.4 -->\n      <g transform=\"translate(351.252 106.69312)scale(0.1 -0.1)\">\n       <use xlink:href=\"#DejaVuSans-48\"/>\n       <use x=\"63.623047\" xlink:href=\"#DejaVuSans-46\"/>\n       <use x=\"95.410156\" xlink:href=\"#DejaVuSans-52\"/>\n      </g>\n     </g>\n    </g>\n    <g id=\"ytick_22\">\n     <g id=\"line2d_38\">\n      <g>\n       <use style=\"stroke:#000000;stroke-width:0.8;\" x=\"344.252\" xlink:href=\"#m060c24b75d\" y=\"72.262341\"/>\n      </g>\n     </g>\n     <g id=\"text_38\">\n      <!-- 0.6 -->\n      <g transform=\"translate(351.252 76.061559)scale(0.1 -0.1)\">\n       <use xlink:href=\"#DejaVuSans-48\"/>\n       <use x=\"63.623047\" xlink:href=\"#DejaVuSans-46\"/>\n       <use x=\"95.410156\" xlink:href=\"#DejaVuSans-54\"/>\n      </g>\n     </g>\n    </g>\n    <g id=\"ytick_23\">\n     <g id=\"line2d_39\">\n      <g>\n       <use style=\"stroke:#000000;stroke-width:0.8;\" x=\"344.252\" xlink:href=\"#m060c24b75d\" y=\"41.63078\"/>\n      </g>\n     </g>\n     <g id=\"text_39\">\n      <!-- 0.8 -->\n      <g transform=\"translate(351.252 45.429998)scale(0.1 -0.1)\">\n       <use xlink:href=\"#DejaVuSans-48\"/>\n       <use x=\"63.623047\" xlink:href=\"#DejaVuSans-46\"/>\n       <use x=\"95.410156\" xlink:href=\"#DejaVuSans-56\"/>\n      </g>\n     </g>\n    </g>\n    <g id=\"ytick_24\">\n     <g id=\"line2d_40\">\n      <g>\n       <use style=\"stroke:#000000;stroke-width:0.8;\" x=\"344.252\" xlink:href=\"#m060c24b75d\" y=\"10.999219\"/>\n      </g>\n     </g>\n     <g id=\"text_40\">\n      <!-- 1.0 -->\n      <g transform=\"translate(351.252 14.798437)scale(0.1 -0.1)\">\n       <use xlink:href=\"#DejaVuSans-49\"/>\n       <use x=\"63.623047\" xlink:href=\"#DejaVuSans-46\"/>\n       <use x=\"95.410156\" xlink:href=\"#DejaVuSans-48\"/>\n      </g>\n     </g>\n    </g>\n   </g>\n   <g id=\"patch_4\">\n    <path d=\"M 333.38 228.439219 \nL 333.38 227.589844 \nL 333.38 11.848594 \nL 333.38 10.999219 \nL 344.252 10.999219 \nL 344.252 11.848594 \nL 344.252 227.589844 \nL 344.252 228.439219 \nz\n\" style=\"fill:none;\"/>\n   </g>\n  </g>\n </g>\n <defs>\n  <clipPath id=\"p9ad2ecf6ec\">\n   <rect height=\"217.44\" width=\"267.84\" x=\"48.8\" y=\"10.999219\"/>\n  </clipPath>\n  <clipPath id=\"p403b1048da\">\n   <rect height=\"217.44\" width=\"10.872\" x=\"333.38\" y=\"10.999219\"/>\n  </clipPath>\n </defs>\n</svg>\n",
      "image/png": "[encoded data removed]"
     },
     "metadata": {
      "needs_background": "light"
     }
    }
   ],
   "source": [
    "sns.heatmap(train.corr())"
   ]
  },
  {
   "source": [
    "## MODELS"
   ],
   "cell_type": "markdown",
   "metadata": {}
  },
  {
   "cell_type": "code",
   "execution_count": 4,
   "metadata": {},
   "outputs": [
    {
     "output_type": "stream",
     "name": "stdout",
     "text": [
      "(300000, 14) (300000,)\n"
     ]
    }
   ],
   "source": [
    "X = train.drop(['id', 'target'], axis=1)\n",
    "y = train['target']\n",
    "\n",
    "print(X.shape, y.shape)"
   ]
  },
  {
   "cell_type": "code",
   "execution_count": 5,
   "metadata": {},
   "outputs": [],
   "source": [
    "X_train, X_test, y_train, y_test = train_test_split(X, y, test_size=.2, random_state=42)"
   ]
  },
  {
   "cell_type": "code",
   "execution_count": 6,
   "metadata": {},
   "outputs": [],
   "source": [
    "def apply_model(model, X_train, y_train, X_test, y_test):\n",
    "    model.fit(X_train, y_train)\n",
    "    model_predictions = model.predict(X_test)\n",
    "    return model_predictions\n",
    "\n",
    "def calculate_mse(X, y):\n",
    "    mse = round(mean_squared_error(X, y),3)\n",
    "    rmse = round(np.sqrt(mean_squared_error(X, y)),3)\n",
    "    print(\"MSE:\", mse, \"RMSE:\", rmse)"
   ]
  },
  {
   "source": [
    "## Linear Regression"
   ],
   "cell_type": "markdown",
   "metadata": {}
  },
  {
   "cell_type": "code",
   "execution_count": 9,
   "metadata": {},
   "outputs": [
    {
     "output_type": "stream",
     "name": "stdout",
     "text": [
      "MSE: 0.523 RMSE: 0.724\n"
     ]
    }
   ],
   "source": [
    "lr = LinearRegression()\n",
    "lr.fit(X_train, y_train)\n",
    "lr_pred = lr.predict(X_test)\n",
    "calculate_mse(y_test, lr_pred)"
   ]
  },
  {
   "source": [
    "## Random Forest"
   ],
   "cell_type": "markdown",
   "metadata": {}
  },
  {
   "cell_type": "code",
   "execution_count": 42,
   "metadata": {},
   "outputs": [],
   "source": [
    "rfr = RandomForestRegressor()\n",
    "rfr.fit(X_train, y_train)\n",
    "ypred_rfr = rfr.predict(X_test)"
   ]
  },
  {
   "cell_type": "code",
   "execution_count": 44,
   "metadata": {},
   "outputs": [
    {
     "output_type": "stream",
     "name": "stdout",
     "text": [
      "RFR RMSE: 0.006 RFR RMSLE: 0.08\n"
     ]
    }
   ],
   "source": [
    "rfr_rmse = round(mean_squared_log_error(y_test, ypred_rfr),4)\n",
    "rfr_rmsle = round(np.sqrt(mean_squared_log_error(y_test, ypred_rfr)), 4)\n",
    "print(\n",
    "    'RFR RMSE:', rfr_rmse,\n",
    "    'RFR RMSLE:', rfr_rmsle)"
   ]
  },
  {
   "cell_type": "code",
   "execution_count": 45,
   "metadata": {},
   "outputs": [],
   "source": [
    "# cross_validate(rfr, X_train, y_train,return_train_score=True)"
   ]
  },
  {
   "source": [
    "## Random Forest with feature selection"
   ],
   "cell_type": "markdown",
   "metadata": {}
  },
  {
   "cell_type": "code",
   "execution_count": 60,
   "metadata": {},
   "outputs": [
    {
     "output_type": "stream",
     "name": "stdout",
     "text": [
      "[ True  True  True  True False False  True False False False False  True\n  True False]\n[1 1 1 1 8 4 1 3 7 2 5 1 1 6]\n"
     ]
    }
   ],
   "source": [
    "# Feature selection\n",
    "rfe = RFE(rfr)\n",
    "rfe.fit(X_train, y_train)\n",
    "\n",
    "print(rfe.support_)\n",
    "print(rfe.ranking_)"
   ]
  },
  {
   "cell_type": "code",
   "execution_count": 10,
   "metadata": {},
   "outputs": [],
   "source": [
    "X_rfr = train.drop(['id','target','cont5','cont9','cont11','cont14'], axis=1)\n",
    "X_train_rfr, X_test_rfr, y_train, y_test = train_test_split(X_rfr, y, test_size=.2, random_state=42)"
   ]
  },
  {
   "cell_type": "code",
   "execution_count": 11,
   "metadata": {},
   "outputs": [],
   "source": [
    "rfr_new = RandomForestRegressor()\n",
    "rfr_new.fit(X_train_rfr, y_train)\n",
    "ypred_rfr_new = rfr_new.predict(X_test_rfr)"
   ]
  },
  {
   "cell_type": "code",
   "execution_count": 12,
   "metadata": {},
   "outputs": [
    {
     "output_type": "stream",
     "name": "stdout",
     "text": [
      "MSE: 0.504 RMSE: 0.71\n"
     ]
    }
   ],
   "source": [
    "calculate_mse(y_test, ypred_rfr_new)"
   ]
  },
  {
   "cell_type": "code",
   "execution_count": 13,
   "metadata": {},
   "outputs": [
    {
     "output_type": "execute_result",
     "data": {
      "text/plain": [
       "0.7100003102102258"
      ]
     },
     "metadata": {},
     "execution_count": 13
    }
   ],
   "source": [
    "np.sqrt(mean_squared_error(y_test, ypred_rfr_new))"
   ]
  },
  {
   "cell_type": "code",
   "execution_count": 18,
   "metadata": {},
   "outputs": [],
   "source": [
    "test_id = test['id']\n",
    "test_noid_short = test.drop(['id','cont5','cont9','cont11','cont14'], axis=1)\n",
    "rfr_new_test_pred = rfr_new.predict(test_noid_short)"
   ]
  },
  {
   "cell_type": "code",
   "execution_count": 19,
   "metadata": {},
   "outputs": [],
   "source": [
    "predictions = pd.DataFrame()\n",
    "predictions['id'] = test_id\n",
    "predictions['target'] = rfr_new_test_pred\n",
    "predictions = predictions[['id','target']]\n",
    "\n",
    "predictions.to_csv('predictions/rfr_new_predictions.csv', index=False)"
   ]
  },
  {
   "source": [
    "## Gradient Boosting Regressor"
   ],
   "cell_type": "markdown",
   "metadata": {}
  },
  {
   "cell_type": "code",
   "execution_count": 20,
   "metadata": {},
   "outputs": [],
   "source": [
    "gbr = GradientBoostingRegressor(n_estimators=100, max_depth=5)\n",
    "gbr.fit(X_train, y_train)\n",
    "gbr_pred = gbr.predict(X_test)"
   ]
  },
  {
   "cell_type": "code",
   "execution_count": 21,
   "metadata": {},
   "outputs": [
    {
     "output_type": "stream",
     "name": "stdout",
     "text": [
      "MSE: 0.494 RMSE: 0.703\n"
     ]
    }
   ],
   "source": [
    "calculate_mse(y_test, gbr_pred)"
   ]
  },
  {
   "cell_type": "code",
   "execution_count": 22,
   "metadata": {},
   "outputs": [],
   "source": [
    "test_id = test['id']\n",
    "test_noid = test.drop(['id'], axis=1)\n",
    "gbr_test_pred = gbr.predict(test_noid)"
   ]
  },
  {
   "cell_type": "code",
   "execution_count": 23,
   "metadata": {},
   "outputs": [],
   "source": [
    "predictions = pd.DataFrame()\n",
    "predictions['id'] = test_id\n",
    "predictions['target'] = gbr_test_pred\n",
    "predictions = predictions[['id','target']]\n",
    "\n",
    "predictions.to_csv('predictions/gbr_predictions.csv', index=False)"
   ]
  },
  {
   "source": [
    "## XGBoost with GridSearch"
   ],
   "cell_type": "markdown",
   "metadata": {}
  },
  {
   "cell_type": "code",
   "execution_count": 7,
   "metadata": {},
   "outputs": [
    {
     "output_type": "stream",
     "name": "stdout",
     "text": [
      "Fitting 5 folds for each of 6 candidates, totalling 30 fits\n",
      "[CV] learning_rate=0.01, n_estimators=1500 ...........................\n",
      "[Parallel(n_jobs=1)]: Using backend SequentialBackend with 1 concurrent workers.\n",
      "[CV]  learning_rate=0.01, n_estimators=1500, score=-0.700, total=  43.7s\n",
      "[CV] learning_rate=0.01, n_estimators=1500 ...........................\n",
      "[Parallel(n_jobs=1)]: Done   1 out of   1 | elapsed:   43.7s remaining:    0.0s\n",
      "[CV]  learning_rate=0.01, n_estimators=1500, score=-0.700, total=  51.5s\n",
      "[CV] learning_rate=0.01, n_estimators=1500 ...........................\n",
      "[Parallel(n_jobs=1)]: Done   2 out of   2 | elapsed:  1.6min remaining:    0.0s\n",
      "[CV]  learning_rate=0.01, n_estimators=1500, score=-0.701, total=  52.1s\n",
      "[CV] learning_rate=0.01, n_estimators=1500 ...........................\n",
      "[Parallel(n_jobs=1)]: Done   3 out of   3 | elapsed:  2.5min remaining:    0.0s\n",
      "[CV]  learning_rate=0.01, n_estimators=1500, score=-0.700, total=  52.0s\n",
      "[CV] learning_rate=0.01, n_estimators=1500 ...........................\n",
      "[Parallel(n_jobs=1)]: Done   4 out of   4 | elapsed:  3.3min remaining:    0.0s\n",
      "[CV]  learning_rate=0.01, n_estimators=1500, score=-0.705, total=  43.6s\n",
      "[CV] learning_rate=0.01, n_estimators=2000 ...........................\n",
      "[Parallel(n_jobs=1)]: Done   5 out of   5 | elapsed:  4.0min remaining:    0.0s\n",
      "[CV]  learning_rate=0.01, n_estimators=2000, score=-0.699, total=  37.4s\n",
      "[CV] learning_rate=0.01, n_estimators=2000 ...........................\n",
      "[Parallel(n_jobs=1)]: Done   6 out of   6 | elapsed:  4.7min remaining:    0.0s\n",
      "[CV]  learning_rate=0.01, n_estimators=2000, score=-0.699, total=  35.3s\n",
      "[CV] learning_rate=0.01, n_estimators=2000 ...........................\n",
      "[Parallel(n_jobs=1)]: Done   7 out of   7 | elapsed:  5.3min remaining:    0.0s\n",
      "[CV]  learning_rate=0.01, n_estimators=2000, score=-0.700, total=  35.1s\n",
      "[CV] learning_rate=0.01, n_estimators=2000 ...........................\n",
      "[Parallel(n_jobs=1)]: Done   8 out of   8 | elapsed:  5.8min remaining:    0.0s\n",
      "[CV]  learning_rate=0.01, n_estimators=2000, score=-0.698, total=  35.7s\n",
      "[CV] learning_rate=0.01, n_estimators=2000 ...........................\n",
      "[Parallel(n_jobs=1)]: Done   9 out of   9 | elapsed:  6.4min remaining:    0.0s\n",
      "[CV]  learning_rate=0.01, n_estimators=2000, score=-0.703, total=  37.6s\n",
      "[CV] learning_rate=0.01, n_estimators=2500 ...........................\n",
      "[CV]  learning_rate=0.01, n_estimators=2500, score=-0.698, total= 1.3min\n",
      "[CV] learning_rate=0.01, n_estimators=2500 ...........................\n",
      "[CV]  learning_rate=0.01, n_estimators=2500, score=-0.698, total= 1.3min\n",
      "[CV] learning_rate=0.01, n_estimators=2500 ...........................\n",
      "[CV]  learning_rate=0.01, n_estimators=2500, score=-0.700, total= 1.4min\n",
      "[CV] learning_rate=0.01, n_estimators=2500 ...........................\n",
      "[CV]  learning_rate=0.01, n_estimators=2500, score=-0.698, total= 1.4min\n",
      "[CV] learning_rate=0.01, n_estimators=2500 ...........................\n",
      "[CV]  learning_rate=0.01, n_estimators=2500, score=-0.703, total= 1.4min\n",
      "[CV] learning_rate=0.02, n_estimators=1500 ...........................\n",
      "[CV]  learning_rate=0.02, n_estimators=1500, score=-0.698, total=  40.1s\n",
      "[CV] learning_rate=0.02, n_estimators=1500 ...........................\n",
      "[CV]  learning_rate=0.02, n_estimators=1500, score=-0.698, total=  29.0s\n",
      "[CV] learning_rate=0.02, n_estimators=1500 ...........................\n",
      "[CV]  learning_rate=0.02, n_estimators=1500, score=-0.699, total=  28.6s\n",
      "[CV] learning_rate=0.02, n_estimators=1500 ...........................\n",
      "[CV]  learning_rate=0.02, n_estimators=1500, score=-0.698, total=  32.0s\n",
      "[CV] learning_rate=0.02, n_estimators=1500 ...........................\n",
      "[CV]  learning_rate=0.02, n_estimators=1500, score=-0.703, total=  26.9s\n",
      "[CV] learning_rate=0.02, n_estimators=2000 ...........................\n",
      "[CV]  learning_rate=0.02, n_estimators=2000, score=-0.698, total=  35.1s\n",
      "[CV] learning_rate=0.02, n_estimators=2000 ...........................\n",
      "[CV]  learning_rate=0.02, n_estimators=2000, score=-0.698, total=  35.2s\n",
      "[CV] learning_rate=0.02, n_estimators=2000 ...........................\n",
      "[CV]  learning_rate=0.02, n_estimators=2000, score=-0.699, total=  35.1s\n",
      "[CV] learning_rate=0.02, n_estimators=2000 ...........................\n",
      "[CV]  learning_rate=0.02, n_estimators=2000, score=-0.697, total=  36.6s\n",
      "[CV] learning_rate=0.02, n_estimators=2000 ...........................\n",
      "[CV]  learning_rate=0.02, n_estimators=2000, score=-0.702, total=  39.4s\n",
      "[CV] learning_rate=0.02, n_estimators=2500 ...........................\n",
      "[CV]  learning_rate=0.02, n_estimators=2500, score=-0.697, total=  43.9s\n",
      "[CV] learning_rate=0.02, n_estimators=2500 ...........................\n",
      "[CV]  learning_rate=0.02, n_estimators=2500, score=-0.698, total=  45.3s\n",
      "[CV] learning_rate=0.02, n_estimators=2500 ...........................\n",
      "[CV]  learning_rate=0.02, n_estimators=2500, score=-0.699, total=  45.0s\n",
      "[CV] learning_rate=0.02, n_estimators=2500 ...........................\n",
      "[CV]  learning_rate=0.02, n_estimators=2500, score=-0.697, total=  50.8s\n",
      "[CV] learning_rate=0.02, n_estimators=2500 ...........................\n",
      "[CV]  learning_rate=0.02, n_estimators=2500, score=-0.702, total=  51.1s\n",
      "[Parallel(n_jobs=1)]: Done  30 out of  30 | elapsed: 23.3min finished\n",
      "\n",
      " Best estimator:\n",
      "XGBRegressor(base_score=0.5, booster='gbtree', colsample_bylevel=1,\n",
      "             colsample_bynode=1, colsample_bytree=0.8, gamma=0, gpu_id=0,\n",
      "             importance_type='gain', interaction_constraints='',\n",
      "             learning_rate=0.02, max_delta_step=0, max_depth=6,\n",
      "             min_child_weight=1, missing=nan, monotone_constraints='()',\n",
      "             n_estimators=2000, n_jobs=8, num_parallel_tree=1, random_state=0,\n",
      "             reg_alpha=0, reg_lambda=1, scale_pos_weight=1, subsample=0.8,\n",
      "             tree_method='gpu_hist', validate_parameters=1, verbosity=None)\n",
      "\n",
      " Best score:\n",
      "-0.6989861632454495\n",
      "\n",
      " Best hyperparameters:\n",
      "{'learning_rate': 0.02, 'n_estimators': 2000}\n"
     ]
    }
   ],
   "source": [
    "parameters = {'n_estimators': [1500, 2000, 2500],\n",
    "          'learning_rate': [0.01, 0.02]\n",
    "        }\n",
    "\n",
    "xgb = XGBRegressor(\n",
    "        objective = 'reg:squarederror',\n",
    "        learning_rate = 0.01,\n",
    "        tree_method = 'gpu_hist')\n",
    "\n",
    "\n",
    "gridsearch = GridSearchCV(xgb, \n",
    "                           param_grid = parameters, \n",
    "                           scoring='neg_root_mean_squared_error',\n",
    "                           verbose = 10)\n",
    "\n",
    "gridsearch.fit(X_train, y_train)\n",
    "\n",
    "\n",
    "print('\\n Best estimator:', gridsearch.best_estimator_)\n",
    "\n",
    "print('\\n Best score:', gridsearch.best_score_)\n",
    "\n",
    "print('\\n Best hyperparameters:', gridsearch.best_params_)"
   ]
  },
  {
   "cell_type": "code",
   "execution_count": 10,
   "metadata": {},
   "outputs": [
    {
     "output_type": "execute_result",
     "data": {
      "text/plain": [
       "XGBRegressor(base_score=0.5, booster='gbtree', colsample_bylevel=1,\n",
       "             colsample_bynode=1, colsample_bytree=0.8, gamma=0, gpu_id=0,\n",
       "             importance_type='gain', interaction_constraints='',\n",
       "             learning_rate=0.02, max_delta_step=0, max_depth=6,\n",
       "             min_child_weight=1, missing=nan, monotone_constraints='()',\n",
       "             n_estimators=2000, n_jobs=8, num_parallel_tree=1, random_state=0,\n",
       "             reg_alpha=0, reg_lambda=1, scale_pos_weight=1, subsample=0.8,\n",
       "             tree_method='gpu_hist', validate_parameters=1, verbosity=None)"
      ]
     },
     "metadata": {},
     "execution_count": 10
    }
   ],
   "source": [
    "xgb_best = XGBRegressor(base_score=0.5, booster='gbtree', colsample_bylevel=1,\n",
    "             colsample_bynode=1, colsample_bytree=0.8, gamma=0, gpu_id=0,\n",
    "             importance_type='gain', interaction_constraints='',\n",
    "             learning_rate=0.02, max_delta_step=0, max_depth=6,\n",
    "             min_child_weight=1, missing=nan, monotone_constraints='()',\n",
    "             n_estimators=2000, n_jobs=8, num_parallel_tree=1, random_state=0,\n",
    "             reg_alpha=0, reg_lambda=1, scale_pos_weight=1, subsample=0.8,\n",
    "             tree_method='gpu_hist', validate_parameters=1, verbosity=None)\n",
    "xgb_best.fit(X_train, y_train)"
   ]
  },
  {
   "cell_type": "code",
   "execution_count": 12,
   "metadata": {},
   "outputs": [],
   "source": [
    "test_id = test['id']\n",
    "test_noid = test.drop(['id'], axis=1)\n",
    "xgb_test_pred = xgb_best.predict(test_noid)"
   ]
  },
  {
   "cell_type": "code",
   "execution_count": 15,
   "metadata": {},
   "outputs": [],
   "source": [
    "predictions = pd.DataFrame()\n",
    "predictions['id'] = test_id\n",
    "predictions['target'] = xgb_test_pred\n",
    "predictions = predictions[['id','target']]\n",
    "\n",
    "predictions.to_csv('predictions/xgb_predictions.csv', index=False)"
   ]
  },
  {
   "cell_type": "code",
   "execution_count": null,
   "metadata": {},
   "outputs": [],
   "source": []
  }
 ]
}