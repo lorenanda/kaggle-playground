{
 "metadata": {
  "language_info": {
   "codemirror_mode": {
    "name": "ipython",
    "version": 3
   },
   "file_extension": ".py",
   "mimetype": "text/x-python",
   "name": "python",
   "nbconvert_exporter": "python",
   "pygments_lexer": "ipython3",
   "version": "3.8.5-final"
  },
  "orig_nbformat": 2,
  "kernelspec": {
   "name": "python3",
   "display_name": "Python 3",
   "language": "python"
  }
 },
 "nbformat": 4,
 "nbformat_minor": 2,
 "cells": [
  {
   "source": [
    "# Kaggle Playground - January"
   ],
   "cell_type": "markdown",
   "metadata": {}
  },
  {
   "cell_type": "code",
   "execution_count": 1,
   "metadata": {},
   "outputs": [],
   "source": [
    "import pandas as pd "
   ]
  },
  {
   "cell_type": "code",
   "execution_count": 5,
   "metadata": {},
   "outputs": [
    {
     "output_type": "execute_result",
     "data": {
      "text/plain": [
       "            id     cont1     cont2     cont3     cont4     cont5     cont6  \\\n",
       "199995  499984  0.353856  0.677578  0.550852  0.869612  0.957635  0.255054   \n",
       "199996  499985  0.243209  0.135627  0.218393  0.792798  0.547639  0.433520   \n",
       "199997  499987  0.506973  0.683893  0.533434  0.192957  0.314381  0.358604   \n",
       "199998  499988  0.347870  0.553112  0.495284  0.861500  0.816914  0.298478   \n",
       "199999  499990  0.688188  0.358328  0.644511  0.766354  0.747591  0.727329   \n",
       "\n",
       "           cont7     cont8     cont9    cont10    cont11    cont12    cont13  \\\n",
       "199995  0.289138  0.635979  0.271399  0.282455  0.217169  0.219088  0.373261   \n",
       "199996  0.549540  0.650107  0.453787  0.459689  0.450424  0.511176  0.318334   \n",
       "199997  0.554455  0.267105  0.396101  0.445390  0.382656  0.397978  0.381235   \n",
       "199998  0.275964  0.265841  0.334250  0.252635  0.213589  0.285223  0.336772   \n",
       "199999  0.468329  0.576711  0.453124  0.381600  0.299126  0.499627  0.691078   \n",
       "\n",
       "          cont14  \n",
       "199995  0.272479  \n",
       "199996  0.395747  \n",
       "199997  0.369464  \n",
       "199998  0.388505  \n",
       "199999  0.668109  "
      ],
      "text/html": "<div>\n<style scoped>\n    .dataframe tbody tr th:only-of-type {\n        vertical-align: middle;\n    }\n\n    .dataframe tbody tr th {\n        vertical-align: top;\n    }\n\n    .dataframe thead th {\n        text-align: right;\n    }\n</style>\n<table border=\"1\" class=\"dataframe\">\n  <thead>\n    <tr style=\"text-align: right;\">\n      <th></th>\n      <th>id</th>\n      <th>cont1</th>\n      <th>cont2</th>\n      <th>cont3</th>\n      <th>cont4</th>\n      <th>cont5</th>\n      <th>cont6</th>\n      <th>cont7</th>\n      <th>cont8</th>\n      <th>cont9</th>\n      <th>cont10</th>\n      <th>cont11</th>\n      <th>cont12</th>\n      <th>cont13</th>\n      <th>cont14</th>\n    </tr>\n  </thead>\n  <tbody>\n    <tr>\n      <th>199995</th>\n      <td>499984</td>\n      <td>0.353856</td>\n      <td>0.677578</td>\n      <td>0.550852</td>\n      <td>0.869612</td>\n      <td>0.957635</td>\n      <td>0.255054</td>\n      <td>0.289138</td>\n      <td>0.635979</td>\n      <td>0.271399</td>\n      <td>0.282455</td>\n      <td>0.217169</td>\n      <td>0.219088</td>\n      <td>0.373261</td>\n      <td>0.272479</td>\n    </tr>\n    <tr>\n      <th>199996</th>\n      <td>499985</td>\n      <td>0.243209</td>\n      <td>0.135627</td>\n      <td>0.218393</td>\n      <td>0.792798</td>\n      <td>0.547639</td>\n      <td>0.433520</td>\n      <td>0.549540</td>\n      <td>0.650107</td>\n      <td>0.453787</td>\n      <td>0.459689</td>\n      <td>0.450424</td>\n      <td>0.511176</td>\n      <td>0.318334</td>\n      <td>0.395747</td>\n    </tr>\n    <tr>\n      <th>199997</th>\n      <td>499987</td>\n      <td>0.506973</td>\n      <td>0.683893</td>\n      <td>0.533434</td>\n      <td>0.192957</td>\n      <td>0.314381</td>\n      <td>0.358604</td>\n      <td>0.554455</td>\n      <td>0.267105</td>\n      <td>0.396101</td>\n      <td>0.445390</td>\n      <td>0.382656</td>\n      <td>0.397978</td>\n      <td>0.381235</td>\n      <td>0.369464</td>\n    </tr>\n    <tr>\n      <th>199998</th>\n      <td>499988</td>\n      <td>0.347870</td>\n      <td>0.553112</td>\n      <td>0.495284</td>\n      <td>0.861500</td>\n      <td>0.816914</td>\n      <td>0.298478</td>\n      <td>0.275964</td>\n      <td>0.265841</td>\n      <td>0.334250</td>\n      <td>0.252635</td>\n      <td>0.213589</td>\n      <td>0.285223</td>\n      <td>0.336772</td>\n      <td>0.388505</td>\n    </tr>\n    <tr>\n      <th>199999</th>\n      <td>499990</td>\n      <td>0.688188</td>\n      <td>0.358328</td>\n      <td>0.644511</td>\n      <td>0.766354</td>\n      <td>0.747591</td>\n      <td>0.727329</td>\n      <td>0.468329</td>\n      <td>0.576711</td>\n      <td>0.453124</td>\n      <td>0.381600</td>\n      <td>0.299126</td>\n      <td>0.499627</td>\n      <td>0.691078</td>\n      <td>0.668109</td>\n    </tr>\n  </tbody>\n</table>\n</div>"
     },
     "metadata": {},
     "execution_count": 5
    }
   ],
   "source": [
    "train = pd.read_csv('data/train.csv')\n",
    "test = pd.read_csv('data/test.csv')\n",
    "\n",
    "train.tail()\n",
    "test.tail()"
   ]
  },
  {
   "cell_type": "code",
   "execution_count": null,
   "metadata": {},
   "outputs": [],
   "source": []
  }
 ]
}